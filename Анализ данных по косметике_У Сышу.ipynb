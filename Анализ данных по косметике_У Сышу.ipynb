{
 "cells": [
  {
   "cell_type": "markdown",
   "id": "fb6b910f",
   "metadata": {},
   "source": [
    "# <font color = f66060>__Практическое задание 2__"
   ]
  },
  {
   "cell_type": "markdown",
   "id": "2e8e3c9c",
   "metadata": {},
   "source": [
    "# <font color = f66060>  Cosmetics datasets"
   ]
  },
  {
   "cell_type": "markdown",
   "id": "d129e78f",
   "metadata": {},
   "source": [
    " __О данном файле:__\n",
    "- Этот набор данных содержит названия товара, ингредиенты, предпочтения кожи и цену."
   ]
  },
  {
   "cell_type": "markdown",
   "id": "3539e852",
   "metadata": {},
   "source": [
    "### <font color = f66060> Описание переменных набора данных"
   ]
  },
  {
   "cell_type": "markdown",
   "id": "e0304f92",
   "metadata": {},
   "source": [
    "- Label: Type of product\n",
    "- Brand: Brand of product\n",
    "- Name:: Name of Cosmetic\n",
    "- Price: Price in USD\n",
    "- Rank: Ranking\n",
    "- Ingredients: Ingredients of cosmetics\n",
    "- Combination: Combination of Dry and oily\n",
    "- Dry: Cosmetics for dry skin \n",
    "- Normal: Cosmetics for normal skin\n",
    "- Oily: Cosmetics for oily skin\n",
    "- Sensitive: Cosmetics for sensitive skin"
   ]
  },
  {
   "cell_type": "markdown",
   "id": "db6ab138",
   "metadata": {},
   "source": [
    "### <font color = f66060>Dataset reference \n",
    "  Kaggle: https://www.kaggle.com/datasets/kingabzpro/cosmetics-datasets"
   ]
  },
  {
   "cell_type": "markdown",
   "id": "bf301036",
   "metadata": {},
   "source": [
    "### <font color = f66060>Причина исследования.\n",
    "\n",
    "- Моя диссертация посвящена выходу российских компаний на китайский косметический рынок, поэтому для данного исследования были выбраны данные из косметического сектора.\n",
    "    \n",
    "- Когда мы хотим попробовать новый косметический товар, всегда трудно сделать выбор. На самом деле, это более чем сложно, что иногда пугает, потому что новые товары, которые мы никогда раньше не пробовали, могут вызвать у меня проблемы с кожей. Мы знаем, что нужная нам информация находится на обратной стороне каждого товара, но если вы не химик, расшифровать список ингредиентов может быть непросто."
   ]
  },
  {
   "cell_type": "markdown",
   "id": "715f4deb",
   "metadata": {},
   "source": [
    "### <font color = f66060>Содержание и цель исследования\n",
    "Мы создадим систему рекомендаций на основе датасета. Изучить, как различные категории товаров подходят для кожи"
   ]
  },
  {
   "cell_type": "markdown",
   "id": "502942bd",
   "metadata": {},
   "source": [
    "##### <font color = f66060> 1.  Импорт и понимание наборов данных"
   ]
  },
  {
   "cell_type": "code",
   "execution_count": 93,
   "id": "285028a3-c868-42e6-a569-1f9c3cadaafb",
   "metadata": {},
   "outputs": [],
   "source": [
    "import numpy as np\n",
    "import pandas as pd\n",
    "import matplotlib.pyplot as plt"
   ]
  },
  {
   "cell_type": "code",
   "execution_count": 94,
   "id": "dbcde5de-f026-43b5-96a9-d037b55c73be",
   "metadata": {},
   "outputs": [
    {
     "data": {
      "text/plain": [
       "Index(['Label', 'Brand', 'Name', 'Price', 'Rank', 'Ingredients', 'Combination',\n",
       "       'Dry', 'Normal', 'Oily', 'Sensitive'],\n",
       "      dtype='object')"
      ]
     },
     "execution_count": 94,
     "metadata": {},
     "output_type": "execute_result"
    }
   ],
   "source": [
    "cosmetics = pd.read_csv('/Users/susiewuss/opt/anaconda3/课件/cosmetics.csv')   # Load dataset files\n",
    "cosmetics.columns  # View dataset column labels"
   ]
  },
  {
   "cell_type": "code",
   "execution_count": 95,
   "id": "4cd97268-83e1-4b2e-9d54-a1c095c5f1cf",
   "metadata": {},
   "outputs": [
    {
     "data": {
      "text/html": [
       "<div>\n",
       "<style scoped>\n",
       "    .dataframe tbody tr th:only-of-type {\n",
       "        vertical-align: middle;\n",
       "    }\n",
       "\n",
       "    .dataframe tbody tr th {\n",
       "        vertical-align: top;\n",
       "    }\n",
       "\n",
       "    .dataframe thead th {\n",
       "        text-align: right;\n",
       "    }\n",
       "</style>\n",
       "<table border=\"1\" class=\"dataframe\">\n",
       "  <thead>\n",
       "    <tr style=\"text-align: right;\">\n",
       "      <th></th>\n",
       "      <th>Label</th>\n",
       "      <th>Brand</th>\n",
       "      <th>Name</th>\n",
       "      <th>Price</th>\n",
       "      <th>Rank</th>\n",
       "      <th>Ingredients</th>\n",
       "      <th>Combination</th>\n",
       "      <th>Dry</th>\n",
       "      <th>Normal</th>\n",
       "      <th>Oily</th>\n",
       "      <th>Sensitive</th>\n",
       "    </tr>\n",
       "  </thead>\n",
       "  <tbody>\n",
       "    <tr>\n",
       "      <th>0</th>\n",
       "      <td>Moisturizer</td>\n",
       "      <td>LA MER</td>\n",
       "      <td>Crème de la Mer</td>\n",
       "      <td>175</td>\n",
       "      <td>4.1</td>\n",
       "      <td>Algae (Seaweed) Extract, Mineral Oil, Petrolat...</td>\n",
       "      <td>1</td>\n",
       "      <td>1</td>\n",
       "      <td>1</td>\n",
       "      <td>1</td>\n",
       "      <td>1</td>\n",
       "    </tr>\n",
       "    <tr>\n",
       "      <th>1</th>\n",
       "      <td>Moisturizer</td>\n",
       "      <td>SK-II</td>\n",
       "      <td>Facial Treatment Essence</td>\n",
       "      <td>179</td>\n",
       "      <td>4.1</td>\n",
       "      <td>Galactomyces Ferment Filtrate (Pitera), Butyle...</td>\n",
       "      <td>1</td>\n",
       "      <td>1</td>\n",
       "      <td>1</td>\n",
       "      <td>1</td>\n",
       "      <td>1</td>\n",
       "    </tr>\n",
       "    <tr>\n",
       "      <th>2</th>\n",
       "      <td>Moisturizer</td>\n",
       "      <td>DRUNK ELEPHANT</td>\n",
       "      <td>Protini™ Polypeptide Cream</td>\n",
       "      <td>68</td>\n",
       "      <td>4.4</td>\n",
       "      <td>Water, Dicaprylyl Carbonate, Glycerin, Ceteary...</td>\n",
       "      <td>1</td>\n",
       "      <td>1</td>\n",
       "      <td>1</td>\n",
       "      <td>1</td>\n",
       "      <td>0</td>\n",
       "    </tr>\n",
       "    <tr>\n",
       "      <th>3</th>\n",
       "      <td>Moisturizer</td>\n",
       "      <td>LA MER</td>\n",
       "      <td>The Moisturizing Soft Cream</td>\n",
       "      <td>175</td>\n",
       "      <td>3.8</td>\n",
       "      <td>Algae (Seaweed) Extract, Cyclopentasiloxane, P...</td>\n",
       "      <td>1</td>\n",
       "      <td>1</td>\n",
       "      <td>1</td>\n",
       "      <td>1</td>\n",
       "      <td>1</td>\n",
       "    </tr>\n",
       "    <tr>\n",
       "      <th>4</th>\n",
       "      <td>Moisturizer</td>\n",
       "      <td>IT COSMETICS</td>\n",
       "      <td>Your Skin But Better™ CC+™ Cream with SPF 50+</td>\n",
       "      <td>38</td>\n",
       "      <td>4.1</td>\n",
       "      <td>Water, Snail Secretion Filtrate, Phenyl Trimet...</td>\n",
       "      <td>1</td>\n",
       "      <td>1</td>\n",
       "      <td>1</td>\n",
       "      <td>1</td>\n",
       "      <td>1</td>\n",
       "    </tr>\n",
       "  </tbody>\n",
       "</table>\n",
       "</div>"
      ],
      "text/plain": [
       "         Label           Brand                                           Name  \\\n",
       "0  Moisturizer          LA MER                                Crème de la Mer   \n",
       "1  Moisturizer           SK-II                       Facial Treatment Essence   \n",
       "2  Moisturizer  DRUNK ELEPHANT                     Protini™ Polypeptide Cream   \n",
       "3  Moisturizer          LA MER                    The Moisturizing Soft Cream   \n",
       "4  Moisturizer    IT COSMETICS  Your Skin But Better™ CC+™ Cream with SPF 50+   \n",
       "\n",
       "   Price  Rank                                        Ingredients  \\\n",
       "0    175   4.1  Algae (Seaweed) Extract, Mineral Oil, Petrolat...   \n",
       "1    179   4.1  Galactomyces Ferment Filtrate (Pitera), Butyle...   \n",
       "2     68   4.4  Water, Dicaprylyl Carbonate, Glycerin, Ceteary...   \n",
       "3    175   3.8  Algae (Seaweed) Extract, Cyclopentasiloxane, P...   \n",
       "4     38   4.1  Water, Snail Secretion Filtrate, Phenyl Trimet...   \n",
       "\n",
       "   Combination  Dry  Normal  Oily  Sensitive  \n",
       "0            1    1       1     1          1  \n",
       "1            1    1       1     1          1  \n",
       "2            1    1       1     1          0  \n",
       "3            1    1       1     1          1  \n",
       "4            1    1       1     1          1  "
      ]
     },
     "execution_count": 95,
     "metadata": {},
     "output_type": "execute_result"
    }
   ],
   "source": [
    "cosmetics.head()  # View the first five rows, conduct data observation"
   ]
  },
  {
   "cell_type": "code",
   "execution_count": 96,
   "id": "95362456-0032-48bb-9b5e-bf9c7cbd3b88",
   "metadata": {},
   "outputs": [
    {
     "data": {
      "text/plain": [
       "(1472, 11)"
      ]
     },
     "execution_count": 96,
     "metadata": {},
     "output_type": "execute_result"
    }
   ],
   "source": [
    "cosmetics.shape  # Check dataset size information"
   ]
  },
  {
   "cell_type": "code",
   "execution_count": 97,
   "id": "41f1c349-cc5f-418b-91be-4ef71a8a073a",
   "metadata": {},
   "outputs": [
    {
     "name": "stdout",
     "output_type": "stream",
     "text": [
      "<class 'pandas.core.frame.DataFrame'>\n",
      "RangeIndex: 1472 entries, 0 to 1471\n",
      "Data columns (total 11 columns):\n",
      " #   Column       Non-Null Count  Dtype  \n",
      "---  ------       --------------  -----  \n",
      " 0   Label        1472 non-null   object \n",
      " 1   Brand        1472 non-null   object \n",
      " 2   Name         1472 non-null   object \n",
      " 3   Price        1472 non-null   int64  \n",
      " 4   Rank         1472 non-null   float64\n",
      " 5   Ingredients  1472 non-null   object \n",
      " 6   Combination  1472 non-null   int64  \n",
      " 7   Dry          1472 non-null   int64  \n",
      " 8   Normal       1472 non-null   int64  \n",
      " 9   Oily         1472 non-null   int64  \n",
      " 10  Sensitive    1472 non-null   int64  \n",
      "dtypes: float64(1), int64(6), object(4)\n",
      "memory usage: 126.6+ KB\n"
     ]
    }
   ],
   "source": [
    "cosmetics.info() # Check dataset details"
   ]
  },
  {
   "cell_type": "code",
   "execution_count": 98,
   "id": "6f3b0819-7d6d-40bc-855e-a3a3500d89d1",
   "metadata": {},
   "outputs": [
    {
     "data": {
      "text/plain": [
       "array(['Moisturizer', 'Cleanser', 'Treatment', 'Face Mask', 'Eye cream',\n",
       "       'Sun protect'], dtype=object)"
      ]
     },
     "execution_count": 98,
     "metadata": {},
     "output_type": "execute_result"
    }
   ],
   "source": [
    "cosmetics[\"Label\"].unique()  # Check cosmetics labels"
   ]
  },
  {
   "cell_type": "code",
   "execution_count": 99,
   "id": "4c7b1812-01cb-4b78-bf3b-2f286862122e",
   "metadata": {},
   "outputs": [
    {
     "data": {
      "text/plain": [
       "array(['LA MER', 'SK-II', 'DRUNK ELEPHANT', 'IT COSMETICS', 'TATCHA',\n",
       "       \"KIEHL'S SINCE 1851\", 'FRESH', 'BELIF', 'SUNDAY RILEY', 'FARMACY',\n",
       "       'FIRST AID BEAUTY', 'CLINIQUE', 'BAREMINERALS', 'SHISEIDO',\n",
       "       'CHARLOTTE TILBURY', 'ORIGINS', 'OLEHENRIKSEN', 'JOSIE MARAN',\n",
       "       'FARSÁLI', 'LANEIGE', 'DR. JART+', 'GLOW RECIPE', 'HERBIVORE',\n",
       "       'TARTE', 'CAUDALIE', 'YOUTH TO THE PEOPLE', 'BIOSSANCE',\n",
       "       'ESTÉE LAUDER', 'SON & PARK', 'AMOREPACIFIC', 'BOBBI BROWN',\n",
       "       'ERBORIAN', 'SMASHBOX', 'GLAMGLOW', 'PETER THOMAS ROTH',\n",
       "       'JACK BLACK', 'PHILOSOPHY', 'PERRICONE MD', 'LANCÔME', 'ALGENIST',\n",
       "       'MAKE UP FOR EVER', 'KORRES', 'MURAD', 'GUERLAIN', 'DIOR',\n",
       "       'KORA ORGANICS', 'DR. DENNIS GROSS SKINCARE', 'REN CLEAN SKINCARE',\n",
       "       'KOPARI', 'CLARINS', 'NURSE JAMIE', 'LANCER', \"L'OCCITANE\",\n",
       "       'KATE SOMERVILLE', 'SUPERGOOP!', 'SATURDAY SKIN',\n",
       "       'SEPHORA COLLECTION', 'MILK MAKEUP', 'DR. BRANDT SKINCARE',\n",
       "       'J.ONE', 'KAT VON D', 'TATA HARPER', 'GO-TO', 'BOSCIA', 'EVE LOM',\n",
       "       'MAKEUP ERASER', 'LAURA MERCIER', 'NEOGEN DERMALOGY', 'INDIE LEE',\n",
       "       'KOH GEN DO', 'VOLITION BEAUTY', 'TOO FACED',\n",
       "       'SKIN INC SUPPLEMENT BAR', 'NUFACE', 'KLORANE', 'BEAUTYBIO',\n",
       "       'NARS', 'BLITHE', 'ERNO LASZLO', 'CLARISONIC',\n",
       "       'FENTY BEAUTY BY RIHANNA', 'DERMADOCTOR', 'PEACE OUT', 'BIOEFFECT',\n",
       "       'BECCA', 'COVER FX', 'MOON JUICE', 'PRIVATE DOCTOR',\n",
       "       'HUM NUTRITION', 'FOREO', 'LIGHTSTIM', 'COOLA', 'OMOROVICZA',\n",
       "       'SUMMER FRIDAYS', 'SAND & SKY', 'TOO COOL FOR SCHOOL',\n",
       "       'DR ROEBUCK’S', 'SKIN LAUNDRY', 'ANTHONY',\n",
       "       'ST. TROPEZ TANNING ESSENTIALS', 'NATURALLY SERIOUS',\n",
       "       'WANDER BEAUTY', 'EDIBLE BEAUTY', 'YVES SAINT LAURENT', 'KENZOKI',\n",
       "       'APIVITA', 'ILIA', 'MDSOLARSCIENCES', 'MOROCCANOIL', 'TOM FORD',\n",
       "       'KAPLAN MD', 'CANE + AUSTIN', 'BLACK UP', 'VITA LIBERATA',\n",
       "       'URBAN DECAY', 'DERMAFLASH'], dtype=object)"
      ]
     },
     "execution_count": 99,
     "metadata": {},
     "output_type": "execute_result"
    }
   ],
   "source": [
    "cosmetics[\"Brand\"].unique()  # CheckCheck the names of the cosmetics Cosmetics Brands"
   ]
  },
  {
   "cell_type": "code",
   "execution_count": 100,
   "id": "5f5d362a-9a5e-491d-b624-a5cf5638a42c",
   "metadata": {},
   "outputs": [
    {
     "data": {
      "text/plain": [
       "array(['Crème de la Mer', 'Facial Treatment Essence',\n",
       "       'Protini™ Polypeptide Cream', ..., 'Self Tan Dry Oil SPF 50',\n",
       "       'Pro Light Self Tan Bronzing Mist',\n",
       "       'DERMAPROTECT Daily Defense Broad Spectrum SPF 50+'], dtype=object)"
      ]
     },
     "execution_count": 100,
     "metadata": {},
     "output_type": "execute_result"
    }
   ],
   "source": [
    "cosmetics[\"Name\"].unique()  # Check the names of the cosmetics"
   ]
  },
  {
   "cell_type": "code",
   "execution_count": 101,
   "id": "020d1ccb-a9bf-471b-80e7-2b4dd40e99ec",
   "metadata": {},
   "outputs": [
    {
     "data": {
      "text/plain": [
       "array([175, 179,  68,  38,  60,  72,  29, 325,  45,  47, 105,  58,  90,\n",
       "        30,  39,  40, 230,  85,  78,  92, 100,  34,  28, 240,  48,  54,\n",
       "        25,  35,  99,  63,  55,  80,  32,  65,  18,  10, 245,  37,  57,\n",
       "       120,  44,  52,  42, 110,  49,  82, 195,  59, 145,  95, 290,  36,\n",
       "       190, 135, 122, 112,  88, 229,  84, 127,  75, 225, 115,  56,  24,\n",
       "        50, 270,  76, 280, 130,  69, 125,  94, 140,   4, 108, 165, 160,\n",
       "       150,  27,  64,  23,  67,  26, 185,  98,  62, 136,   7,  20,  19,\n",
       "        11,  79,  16,   8,  21,  22,  14,  17,  70,  41,  15,  46,  33,\n",
       "        12,   9,  73, 158, 178, 370, 128,  89, 345, 205, 132, 116, 275,\n",
       "       149,  81,  86, 169, 118,  61, 300,  74, 265, 152,  96,   6, 250,\n",
       "         5, 170,   3,  51,  43, 215, 255,  66,  77, 260, 159, 200, 139,\n",
       "        71,  31,  53])"
      ]
     },
     "execution_count": 101,
     "metadata": {},
     "output_type": "execute_result"
    }
   ],
   "source": [
    "cosmetics[\"Price\"].unique() # Check the price of the cosmetics"
   ]
  },
  {
   "cell_type": "code",
   "execution_count": 102,
   "id": "02fdd19e-15f7-430a-9294-9b24ee108779",
   "metadata": {},
   "outputs": [
    {
     "data": {
      "text/plain": [
       "array([4.1, 4.4, 3.8, 4.2, 5. , 4.3, 4.5, 4.6, 3.9, 4. , 3.7, 4.8, 4.7,\n",
       "       0. , 3.3, 3.6, 3.5, 4.9, 3.4, 2.8, 2. , 3.1, 2.6, 3. , 3.2, 1. ,\n",
       "       2.9, 2.7, 1.8])"
      ]
     },
     "execution_count": 102,
     "metadata": {},
     "output_type": "execute_result"
    }
   ],
   "source": [
    "cosmetics[\"Rank\"].unique()  # Check the rank of the cosmetic brand"
   ]
  },
  {
   "cell_type": "code",
   "execution_count": 103,
   "id": "604591d0-f9f9-4c6e-b0c9-72536248dfe2",
   "metadata": {},
   "outputs": [
    {
     "data": {
      "text/plain": [
       "array(['Algae (Seaweed) Extract, Mineral Oil, Petrolatum, Glycerin, Isohexadecane, Microcrystalline Wax, Lanolin Alcohol, Citrus Aurantifolia (Lime) Extract, Sesamum Indicum (Sesame) Seed Oil, Eucalyptus Globulus (Eucalyptus) Leaf Oil, Sesamum Indicum (Sesame) Seed Powder, Medicago Sativa (Alfalfa) Seed Powder, Helianthus Annuus (Sunflower) Seedcake, Prunus Amygdalus Dulcis (Sweet Almond) Seed Meal, Sodium Gluconate, Copper Gluconate, Calcium Gluconate, Magnesium Gluconate, Zinc Gluconate, Magnesium Sulfate, Paraffin, Tocopheryl Succinate, Niacin, Water, Beta-Carotene, Decyl Oleate, Aluminum Distearate, Octyldodecanol, Citric Acid, Cyanocobalamin, Magnesium Stearate, Panthenol, Limonene, Geraniol, Linalool, Hydroxycitronellal, Citronellol, Benzyl Salicylate, Citral, Sodium Benzoate, Alcohol Denat., Fragrance.',\n",
       "       'Galactomyces Ferment Filtrate (Pitera), Butylene Glycol, Pentylene Glycol, Water, Sodium Benzoate, Methylparaben, Sorbic Acid.',\n",
       "       'Water, Dicaprylyl Carbonate, Glycerin, Cetearyl Alcohol, Cetearyl Olivate, Sorbitan Olivate, Sclerocarya Birrea Seed Oil, Bacillus/Soybean/ Folic Acid Ferment Extract, Nymphaea Alba Root Extract, sh-Oligopeptide-1, sh-Oligopeptide-2, sh-Polypeptide-1, sh-Polypeptide-9, sh-Polypeptide-11, Copper Palmitoyl Heptapeptide-14, Heptapeptide-15 Palmitate, Palmitoyl Tetrapeptide-7, Palmitoyl Tripeptide-1, Alanine, Arginine, Glycine, Histidine, Isoleucine, Phenylalanine, Proline, Serine, Threonine, Valine, Acetyl Glutamine, Coconut Alkanes , Coco-Caprylate/Caprate, Sodium Hyaluronate, Aspartic Acid, Linoleic Acid, Linolenic Acid, Lecithin, Butylene Glycol, Polyvinyl Alcohol, Sodium Lactate, Sodium PCA, PCA, Sorbitan Isostearate, Carbomer, Polysorbate 20, Polysorbate 60, Lactic Acid/Glycolic Acid Copolymer, Hydroxyethyl Acrylate/Sodium Acryloyldimethyl Taurate Copolymer, Xanthan Gum, Isomalt, 1,2-Hexanediol, Caprylyl Glycol, Chlorphenesin, Phenoxyethanol, Tocopherol, Sodium Benzoate, Phenylpropanol, Glyceryl Caprylate, Symphytum Officinale Callus Culture Extract.',\n",
       "       ...,\n",
       "       'Water, Dihydroxyacetone, Glycerin, Sclerocarya Birrea Seed Oil, Mica, Cymbopogon flexuosus (Lemongrass) oil, Cucumis Sativus (Cucumber) Extract, Citrus aurantium amara (Bitter orange) flower oil, Dimethyl isosorbide, Sodium Benzoate, Potassium Sorbate, Caramel, Tin oxide, CI 77491 (Iron oxides), Cocos Nucifera (Coconut) Oil, Gardenia Taitensis Flower Extract, Sorbitol, Sodium Citrate, Silica.',\n",
       "       'Water, Dihydroxyacetone, Propylene Glycol, PPG-5-Ceteth-20, Glycerin, Ethoxydiglycol, Caramel, Phenoxyethanol, PEG-12 Dimethicone, Parfum (Fragrance), Sodium Metabisulfite, Tocopherol, Ethylhexylglycerin, Linalool, Alpha-isomethyl Ionone, CI 14700 (Red 4), CI 19140 (Yellow 5), CI 42090 (Blue 1).',\n",
       "       'Visit the DERMAFLASH boutique'], dtype=object)"
      ]
     },
     "execution_count": 103,
     "metadata": {},
     "output_type": "execute_result"
    }
   ],
   "source": [
    "cosmetics[\"Ingredients\"].unique()  # Check the cosmetic ingredients"
   ]
  },
  {
   "cell_type": "code",
   "execution_count": 104,
   "id": "3c2f9dd8-b18a-4bf1-8a9e-fe21f1d94ecc",
   "metadata": {},
   "outputs": [
    {
     "data": {
      "text/plain": [
       "array([1, 0])"
      ]
     },
     "execution_count": 104,
     "metadata": {},
     "output_type": "execute_result"
    }
   ],
   "source": [
    "cosmetics[\"Combination\"].unique()  # Check if the cosmetics are suitable for combination skin "
   ]
  },
  {
   "cell_type": "code",
   "execution_count": 105,
   "id": "8f2c1a25-dd45-4297-853d-860b7fc12e0c",
   "metadata": {},
   "outputs": [
    {
     "data": {
      "text/plain": [
       "array([1, 0])"
      ]
     },
     "execution_count": 105,
     "metadata": {},
     "output_type": "execute_result"
    }
   ],
   "source": [
    "cosmetics[\"Dry\"].unique()  # Check if the cosmetics are suitable for dry skin"
   ]
  },
  {
   "cell_type": "code",
   "execution_count": 106,
   "id": "0d8c3087-f0d1-4bb4-9923-804405edaccb",
   "metadata": {},
   "outputs": [
    {
     "data": {
      "text/plain": [
       "array([1, 0])"
      ]
     },
     "execution_count": 106,
     "metadata": {},
     "output_type": "execute_result"
    }
   ],
   "source": [
    "cosmetics[\"Normal\"].unique()  # Check if the cosmetics are suitable for normal skin"
   ]
  },
  {
   "cell_type": "code",
   "execution_count": 107,
   "id": "bdfcb2c0-7009-4784-ac55-6d0414afb386",
   "metadata": {},
   "outputs": [
    {
     "data": {
      "text/plain": [
       "array([1, 0])"
      ]
     },
     "execution_count": 107,
     "metadata": {},
     "output_type": "execute_result"
    }
   ],
   "source": [
    "cosmetics[\"Oily\"].unique() # Check if the cosmetics are suitable for oily skin "
   ]
  },
  {
   "cell_type": "code",
   "execution_count": 108,
   "id": "36060b87-e312-4494-be77-b3777396f48b",
   "metadata": {},
   "outputs": [
    {
     "data": {
      "text/plain": [
       "array([1, 0])"
      ]
     },
     "execution_count": 108,
     "metadata": {},
     "output_type": "execute_result"
    }
   ],
   "source": [
    "cosmetics[\"Sensitive\"].unique()  # Check if the cosmetics are suitable for sensitive skin "
   ]
  },
  {
   "cell_type": "markdown",
   "id": "fc8489b2",
   "metadata": {},
   "source": [
    "##### <font color = f66060>2. Обработка недостающих значений"
   ]
  },
  {
   "cell_type": "code",
   "execution_count": 109,
   "id": "42b53b99-180b-4ad2-a7d6-68eb697353f1",
   "metadata": {
    "scrolled": true
   },
   "outputs": [
    {
     "data": {
      "text/html": [
       "<div>\n",
       "<style scoped>\n",
       "    .dataframe tbody tr th:only-of-type {\n",
       "        vertical-align: middle;\n",
       "    }\n",
       "\n",
       "    .dataframe tbody tr th {\n",
       "        vertical-align: top;\n",
       "    }\n",
       "\n",
       "    .dataframe thead th {\n",
       "        text-align: right;\n",
       "    }\n",
       "</style>\n",
       "<table border=\"1\" class=\"dataframe\">\n",
       "  <thead>\n",
       "    <tr style=\"text-align: right;\">\n",
       "      <th></th>\n",
       "      <th>Label</th>\n",
       "      <th>Brand</th>\n",
       "      <th>Name</th>\n",
       "      <th>Price</th>\n",
       "      <th>Rank</th>\n",
       "      <th>Ingredients</th>\n",
       "      <th>Combination</th>\n",
       "      <th>Dry</th>\n",
       "      <th>Normal</th>\n",
       "      <th>Oily</th>\n",
       "      <th>Sensitive</th>\n",
       "    </tr>\n",
       "  </thead>\n",
       "  <tbody>\n",
       "    <tr>\n",
       "      <th>0</th>\n",
       "      <td>Moisturizer</td>\n",
       "      <td>LA MER</td>\n",
       "      <td>Crème de la Mer</td>\n",
       "      <td>175</td>\n",
       "      <td>4.1</td>\n",
       "      <td>Algae (Seaweed) Extract, Mineral Oil, Petrolat...</td>\n",
       "      <td>1</td>\n",
       "      <td>1</td>\n",
       "      <td>1</td>\n",
       "      <td>1</td>\n",
       "      <td>1</td>\n",
       "    </tr>\n",
       "    <tr>\n",
       "      <th>1</th>\n",
       "      <td>Moisturizer</td>\n",
       "      <td>SK-II</td>\n",
       "      <td>Facial Treatment Essence</td>\n",
       "      <td>179</td>\n",
       "      <td>4.1</td>\n",
       "      <td>Galactomyces Ferment Filtrate (Pitera), Butyle...</td>\n",
       "      <td>1</td>\n",
       "      <td>1</td>\n",
       "      <td>1</td>\n",
       "      <td>1</td>\n",
       "      <td>1</td>\n",
       "    </tr>\n",
       "    <tr>\n",
       "      <th>2</th>\n",
       "      <td>Moisturizer</td>\n",
       "      <td>DRUNK ELEPHANT</td>\n",
       "      <td>Protini™ Polypeptide Cream</td>\n",
       "      <td>68</td>\n",
       "      <td>4.4</td>\n",
       "      <td>Water, Dicaprylyl Carbonate, Glycerin, Ceteary...</td>\n",
       "      <td>1</td>\n",
       "      <td>1</td>\n",
       "      <td>1</td>\n",
       "      <td>1</td>\n",
       "      <td>0</td>\n",
       "    </tr>\n",
       "    <tr>\n",
       "      <th>3</th>\n",
       "      <td>Moisturizer</td>\n",
       "      <td>LA MER</td>\n",
       "      <td>The Moisturizing Soft Cream</td>\n",
       "      <td>175</td>\n",
       "      <td>3.8</td>\n",
       "      <td>Algae (Seaweed) Extract, Cyclopentasiloxane, P...</td>\n",
       "      <td>1</td>\n",
       "      <td>1</td>\n",
       "      <td>1</td>\n",
       "      <td>1</td>\n",
       "      <td>1</td>\n",
       "    </tr>\n",
       "    <tr>\n",
       "      <th>4</th>\n",
       "      <td>Moisturizer</td>\n",
       "      <td>IT COSMETICS</td>\n",
       "      <td>Your Skin But Better™ CC+™ Cream with SPF 50+</td>\n",
       "      <td>38</td>\n",
       "      <td>4.1</td>\n",
       "      <td>Water, Snail Secretion Filtrate, Phenyl Trimet...</td>\n",
       "      <td>1</td>\n",
       "      <td>1</td>\n",
       "      <td>1</td>\n",
       "      <td>1</td>\n",
       "      <td>1</td>\n",
       "    </tr>\n",
       "    <tr>\n",
       "      <th>...</th>\n",
       "      <td>...</td>\n",
       "      <td>...</td>\n",
       "      <td>...</td>\n",
       "      <td>...</td>\n",
       "      <td>...</td>\n",
       "      <td>...</td>\n",
       "      <td>...</td>\n",
       "      <td>...</td>\n",
       "      <td>...</td>\n",
       "      <td>...</td>\n",
       "      <td>...</td>\n",
       "    </tr>\n",
       "    <tr>\n",
       "      <th>185</th>\n",
       "      <td>Moisturizer</td>\n",
       "      <td>KIEHL'S SINCE 1851</td>\n",
       "      <td>Ultra Facial Deep Moisture Balm</td>\n",
       "      <td>29</td>\n",
       "      <td>4.7</td>\n",
       "      <td>Water, Glycerin, Shea Butter, Glyceryl Stearat...</td>\n",
       "      <td>0</td>\n",
       "      <td>1</td>\n",
       "      <td>1</td>\n",
       "      <td>0</td>\n",
       "      <td>0</td>\n",
       "    </tr>\n",
       "    <tr>\n",
       "      <th>186</th>\n",
       "      <td>Moisturizer</td>\n",
       "      <td>SHISEIDO</td>\n",
       "      <td>White Lucent All Day Brightener Broad Spectrum...</td>\n",
       "      <td>62</td>\n",
       "      <td>4.6</td>\n",
       "      <td>Water, Sd Alcohol 40-B, Dimethicone, Dipropyle...</td>\n",
       "      <td>1</td>\n",
       "      <td>1</td>\n",
       "      <td>1</td>\n",
       "      <td>0</td>\n",
       "      <td>0</td>\n",
       "    </tr>\n",
       "    <tr>\n",
       "      <th>187</th>\n",
       "      <td>Moisturizer</td>\n",
       "      <td>SATURDAY SKIN</td>\n",
       "      <td>Featherweight Daily Moisturizing Cream</td>\n",
       "      <td>49</td>\n",
       "      <td>4.6</td>\n",
       "      <td>Water, Butylene Glycol, Ethylhexyl Palmitate, ...</td>\n",
       "      <td>1</td>\n",
       "      <td>1</td>\n",
       "      <td>1</td>\n",
       "      <td>1</td>\n",
       "      <td>1</td>\n",
       "    </tr>\n",
       "    <tr>\n",
       "      <th>188</th>\n",
       "      <td>Moisturizer</td>\n",
       "      <td>KATE SOMERVILLE</td>\n",
       "      <td>Goat Milk Moisturizing Cream</td>\n",
       "      <td>65</td>\n",
       "      <td>4.1</td>\n",
       "      <td>Water, Ethylhexyl Palmitate, Myristyl Myristat...</td>\n",
       "      <td>1</td>\n",
       "      <td>1</td>\n",
       "      <td>1</td>\n",
       "      <td>1</td>\n",
       "      <td>1</td>\n",
       "    </tr>\n",
       "    <tr>\n",
       "      <th>189</th>\n",
       "      <td>Moisturizer</td>\n",
       "      <td>GO-TO</td>\n",
       "      <td>Face Hero</td>\n",
       "      <td>34</td>\n",
       "      <td>4.8</td>\n",
       "      <td>Almond Oil, Jojoba Oil, Macadamia Oil, Brazil ...</td>\n",
       "      <td>1</td>\n",
       "      <td>1</td>\n",
       "      <td>1</td>\n",
       "      <td>1</td>\n",
       "      <td>1</td>\n",
       "    </tr>\n",
       "  </tbody>\n",
       "</table>\n",
       "<p>190 rows × 11 columns</p>\n",
       "</div>"
      ],
      "text/plain": [
       "           Label               Brand  \\\n",
       "0    Moisturizer              LA MER   \n",
       "1    Moisturizer               SK-II   \n",
       "2    Moisturizer      DRUNK ELEPHANT   \n",
       "3    Moisturizer              LA MER   \n",
       "4    Moisturizer        IT COSMETICS   \n",
       "..           ...                 ...   \n",
       "185  Moisturizer  KIEHL'S SINCE 1851   \n",
       "186  Moisturizer            SHISEIDO   \n",
       "187  Moisturizer       SATURDAY SKIN   \n",
       "188  Moisturizer     KATE SOMERVILLE   \n",
       "189  Moisturizer               GO-TO   \n",
       "\n",
       "                                                  Name  Price  Rank  \\\n",
       "0                                      Crème de la Mer    175   4.1   \n",
       "1                             Facial Treatment Essence    179   4.1   \n",
       "2                           Protini™ Polypeptide Cream     68   4.4   \n",
       "3                          The Moisturizing Soft Cream    175   3.8   \n",
       "4        Your Skin But Better™ CC+™ Cream with SPF 50+     38   4.1   \n",
       "..                                                 ...    ...   ...   \n",
       "185                    Ultra Facial Deep Moisture Balm     29   4.7   \n",
       "186  White Lucent All Day Brightener Broad Spectrum...     62   4.6   \n",
       "187             Featherweight Daily Moisturizing Cream     49   4.6   \n",
       "188                       Goat Milk Moisturizing Cream     65   4.1   \n",
       "189                                          Face Hero     34   4.8   \n",
       "\n",
       "                                           Ingredients  Combination  Dry  \\\n",
       "0    Algae (Seaweed) Extract, Mineral Oil, Petrolat...            1    1   \n",
       "1    Galactomyces Ferment Filtrate (Pitera), Butyle...            1    1   \n",
       "2    Water, Dicaprylyl Carbonate, Glycerin, Ceteary...            1    1   \n",
       "3    Algae (Seaweed) Extract, Cyclopentasiloxane, P...            1    1   \n",
       "4    Water, Snail Secretion Filtrate, Phenyl Trimet...            1    1   \n",
       "..                                                 ...          ...  ...   \n",
       "185  Water, Glycerin, Shea Butter, Glyceryl Stearat...            0    1   \n",
       "186  Water, Sd Alcohol 40-B, Dimethicone, Dipropyle...            1    1   \n",
       "187  Water, Butylene Glycol, Ethylhexyl Palmitate, ...            1    1   \n",
       "188  Water, Ethylhexyl Palmitate, Myristyl Myristat...            1    1   \n",
       "189  Almond Oil, Jojoba Oil, Macadamia Oil, Brazil ...            1    1   \n",
       "\n",
       "     Normal  Oily  Sensitive  \n",
       "0         1     1          1  \n",
       "1         1     1          1  \n",
       "2         1     1          0  \n",
       "3         1     1          1  \n",
       "4         1     1          1  \n",
       "..      ...   ...        ...  \n",
       "185       1     0          0  \n",
       "186       1     0          0  \n",
       "187       1     1          1  \n",
       "188       1     1          1  \n",
       "189       1     1          1  \n",
       "\n",
       "[190 rows x 11 columns]"
      ]
     },
     "execution_count": 109,
     "metadata": {},
     "output_type": "execute_result"
    }
   ],
   "source": [
    "# Filter out the data for moisturiser, we use moisturiser for analysis\n",
    "moisturizers = cosmetics[cosmetics[\"Label\"]==\"Moisturizer\"]  \n",
    "# Filter out the data of oily skin, used to analyze how to choose cosmetics for oily skin\n",
    "moisturizers_dry = moisturizers[moisturizers[\"Dry\"] == 1]\n",
    "\n",
    "# Regenerate data index\n",
    "moisturizers_dry = moisturizers_dry.reset_index(drop=True)\n",
    "moisturizers_dry"
   ]
  },
  {
   "cell_type": "code",
   "execution_count": 110,
   "id": "86f11806-e62a-40c0-9296-c365fddd04ed",
   "metadata": {},
   "outputs": [
    {
     "data": {
      "text/html": [
       "<div>\n",
       "<style scoped>\n",
       "    .dataframe tbody tr th:only-of-type {\n",
       "        vertical-align: middle;\n",
       "    }\n",
       "\n",
       "    .dataframe tbody tr th {\n",
       "        vertical-align: top;\n",
       "    }\n",
       "\n",
       "    .dataframe thead th {\n",
       "        text-align: right;\n",
       "    }\n",
       "</style>\n",
       "<table border=\"1\" class=\"dataframe\">\n",
       "  <thead>\n",
       "    <tr style=\"text-align: right;\">\n",
       "      <th></th>\n",
       "      <th>Label</th>\n",
       "      <th>Brand</th>\n",
       "      <th>Name</th>\n",
       "      <th>Price</th>\n",
       "      <th>Rank</th>\n",
       "      <th>Ingredients</th>\n",
       "      <th>Combination</th>\n",
       "      <th>Dry</th>\n",
       "      <th>Normal</th>\n",
       "      <th>Oily</th>\n",
       "      <th>Sensitive</th>\n",
       "    </tr>\n",
       "  </thead>\n",
       "  <tbody>\n",
       "    <tr>\n",
       "      <th>0</th>\n",
       "      <td>False</td>\n",
       "      <td>False</td>\n",
       "      <td>False</td>\n",
       "      <td>False</td>\n",
       "      <td>False</td>\n",
       "      <td>False</td>\n",
       "      <td>False</td>\n",
       "      <td>False</td>\n",
       "      <td>False</td>\n",
       "      <td>False</td>\n",
       "      <td>False</td>\n",
       "    </tr>\n",
       "    <tr>\n",
       "      <th>1</th>\n",
       "      <td>False</td>\n",
       "      <td>False</td>\n",
       "      <td>False</td>\n",
       "      <td>False</td>\n",
       "      <td>False</td>\n",
       "      <td>False</td>\n",
       "      <td>False</td>\n",
       "      <td>False</td>\n",
       "      <td>False</td>\n",
       "      <td>False</td>\n",
       "      <td>False</td>\n",
       "    </tr>\n",
       "    <tr>\n",
       "      <th>2</th>\n",
       "      <td>False</td>\n",
       "      <td>False</td>\n",
       "      <td>False</td>\n",
       "      <td>False</td>\n",
       "      <td>False</td>\n",
       "      <td>False</td>\n",
       "      <td>False</td>\n",
       "      <td>False</td>\n",
       "      <td>False</td>\n",
       "      <td>False</td>\n",
       "      <td>False</td>\n",
       "    </tr>\n",
       "    <tr>\n",
       "      <th>3</th>\n",
       "      <td>False</td>\n",
       "      <td>False</td>\n",
       "      <td>False</td>\n",
       "      <td>False</td>\n",
       "      <td>False</td>\n",
       "      <td>False</td>\n",
       "      <td>False</td>\n",
       "      <td>False</td>\n",
       "      <td>False</td>\n",
       "      <td>False</td>\n",
       "      <td>False</td>\n",
       "    </tr>\n",
       "    <tr>\n",
       "      <th>4</th>\n",
       "      <td>False</td>\n",
       "      <td>False</td>\n",
       "      <td>False</td>\n",
       "      <td>False</td>\n",
       "      <td>False</td>\n",
       "      <td>False</td>\n",
       "      <td>False</td>\n",
       "      <td>False</td>\n",
       "      <td>False</td>\n",
       "      <td>False</td>\n",
       "      <td>False</td>\n",
       "    </tr>\n",
       "    <tr>\n",
       "      <th>...</th>\n",
       "      <td>...</td>\n",
       "      <td>...</td>\n",
       "      <td>...</td>\n",
       "      <td>...</td>\n",
       "      <td>...</td>\n",
       "      <td>...</td>\n",
       "      <td>...</td>\n",
       "      <td>...</td>\n",
       "      <td>...</td>\n",
       "      <td>...</td>\n",
       "      <td>...</td>\n",
       "    </tr>\n",
       "    <tr>\n",
       "      <th>1467</th>\n",
       "      <td>False</td>\n",
       "      <td>False</td>\n",
       "      <td>False</td>\n",
       "      <td>False</td>\n",
       "      <td>False</td>\n",
       "      <td>False</td>\n",
       "      <td>False</td>\n",
       "      <td>False</td>\n",
       "      <td>False</td>\n",
       "      <td>False</td>\n",
       "      <td>False</td>\n",
       "    </tr>\n",
       "    <tr>\n",
       "      <th>1468</th>\n",
       "      <td>False</td>\n",
       "      <td>False</td>\n",
       "      <td>False</td>\n",
       "      <td>False</td>\n",
       "      <td>False</td>\n",
       "      <td>False</td>\n",
       "      <td>False</td>\n",
       "      <td>False</td>\n",
       "      <td>False</td>\n",
       "      <td>False</td>\n",
       "      <td>False</td>\n",
       "    </tr>\n",
       "    <tr>\n",
       "      <th>1469</th>\n",
       "      <td>False</td>\n",
       "      <td>False</td>\n",
       "      <td>False</td>\n",
       "      <td>False</td>\n",
       "      <td>False</td>\n",
       "      <td>False</td>\n",
       "      <td>False</td>\n",
       "      <td>False</td>\n",
       "      <td>False</td>\n",
       "      <td>False</td>\n",
       "      <td>False</td>\n",
       "    </tr>\n",
       "    <tr>\n",
       "      <th>1470</th>\n",
       "      <td>False</td>\n",
       "      <td>False</td>\n",
       "      <td>False</td>\n",
       "      <td>False</td>\n",
       "      <td>False</td>\n",
       "      <td>False</td>\n",
       "      <td>False</td>\n",
       "      <td>False</td>\n",
       "      <td>False</td>\n",
       "      <td>False</td>\n",
       "      <td>False</td>\n",
       "    </tr>\n",
       "    <tr>\n",
       "      <th>1471</th>\n",
       "      <td>False</td>\n",
       "      <td>False</td>\n",
       "      <td>False</td>\n",
       "      <td>False</td>\n",
       "      <td>False</td>\n",
       "      <td>False</td>\n",
       "      <td>False</td>\n",
       "      <td>False</td>\n",
       "      <td>False</td>\n",
       "      <td>False</td>\n",
       "      <td>False</td>\n",
       "    </tr>\n",
       "  </tbody>\n",
       "</table>\n",
       "<p>1472 rows × 11 columns</p>\n",
       "</div>"
      ],
      "text/plain": [
       "      Label  Brand   Name  Price   Rank  Ingredients  Combination    Dry  \\\n",
       "0     False  False  False  False  False        False        False  False   \n",
       "1     False  False  False  False  False        False        False  False   \n",
       "2     False  False  False  False  False        False        False  False   \n",
       "3     False  False  False  False  False        False        False  False   \n",
       "4     False  False  False  False  False        False        False  False   \n",
       "...     ...    ...    ...    ...    ...          ...          ...    ...   \n",
       "1467  False  False  False  False  False        False        False  False   \n",
       "1468  False  False  False  False  False        False        False  False   \n",
       "1469  False  False  False  False  False        False        False  False   \n",
       "1470  False  False  False  False  False        False        False  False   \n",
       "1471  False  False  False  False  False        False        False  False   \n",
       "\n",
       "      Normal   Oily  Sensitive  \n",
       "0      False  False      False  \n",
       "1      False  False      False  \n",
       "2      False  False      False  \n",
       "3      False  False      False  \n",
       "4      False  False      False  \n",
       "...      ...    ...        ...  \n",
       "1467   False  False      False  \n",
       "1468   False  False      False  \n",
       "1469   False  False      False  \n",
       "1470   False  False      False  \n",
       "1471   False  False      False  \n",
       "\n",
       "[1472 rows x 11 columns]"
      ]
     },
     "execution_count": 110,
     "metadata": {},
     "output_type": "execute_result"
    }
   ],
   "source": [
    "cosmetics.isna()  # Check for missing values in the dataset"
   ]
  },
  {
   "cell_type": "code",
   "execution_count": 111,
   "id": "cf43ec08-4e41-4966-a873-7c0ac1b89450",
   "metadata": {
    "scrolled": true
   },
   "outputs": [
    {
     "data": {
      "text/plain": [
       "Label          0\n",
       "Brand          0\n",
       "Name           0\n",
       "Price          0\n",
       "Rank           0\n",
       "Ingredients    0\n",
       "Combination    0\n",
       "Dry            0\n",
       "Normal         0\n",
       "Oily           0\n",
       "Sensitive      0\n",
       "dtype: int64"
      ]
     },
     "execution_count": 111,
     "metadata": {},
     "output_type": "execute_result"
    }
   ],
   "source": [
    "cosmetics.isna().sum()  # Check for missing values in the dataset"
   ]
  },
  {
   "cell_type": "markdown",
   "id": "3a1f86c3",
   "metadata": {},
   "source": [
    "##### <font color = f66060> 3.Фильтрация и сортировка данных"
   ]
  },
  {
   "cell_type": "code",
   "execution_count": 112,
   "id": "e030dae3-2c34-4c96-b5ca-2fbe0671eca2",
   "metadata": {},
   "outputs": [
    {
     "name": "stdout",
     "output_type": "stream",
     "text": [
      "3.192934782608696%\n"
     ]
    }
   ],
   "source": [
    "# Check the percentage of top rated - rated 5 cosmetics out of all products\n",
    "def percentage(part, whole):\n",
    "    percentage = 100 * float(part) / float(whole)\n",
    "    return str(percentage) + \"%\"\n",
    "\n",
    "print(percentage(cosmetics[cosmetics[\"Rank\"] == 5].shape[0], cosmetics[\"Label\"].shape[0]))"
   ]
  },
  {
   "cell_type": "code",
   "execution_count": 113,
   "id": "07934a8e-1123-45a9-9bb4-427c23019be4",
   "metadata": {},
   "outputs": [
    {
     "data": {
      "text/html": [
       "<div>\n",
       "<style scoped>\n",
       "    .dataframe tbody tr th:only-of-type {\n",
       "        vertical-align: middle;\n",
       "    }\n",
       "\n",
       "    .dataframe tbody tr th {\n",
       "        vertical-align: top;\n",
       "    }\n",
       "\n",
       "    .dataframe thead th {\n",
       "        text-align: right;\n",
       "    }\n",
       "</style>\n",
       "<table border=\"1\" class=\"dataframe\">\n",
       "  <thead>\n",
       "    <tr style=\"text-align: right;\">\n",
       "      <th></th>\n",
       "      <th>Label</th>\n",
       "      <th>Brand</th>\n",
       "      <th>Name</th>\n",
       "      <th>Price</th>\n",
       "      <th>Rank</th>\n",
       "      <th>Ingredients</th>\n",
       "      <th>Combination</th>\n",
       "      <th>Dry</th>\n",
       "      <th>Normal</th>\n",
       "      <th>Oily</th>\n",
       "      <th>Sensitive</th>\n",
       "    </tr>\n",
       "  </thead>\n",
       "  <tbody>\n",
       "    <tr>\n",
       "      <th>587</th>\n",
       "      <td>Treatment</td>\n",
       "      <td>LA MER</td>\n",
       "      <td>The Concentrate</td>\n",
       "      <td>370</td>\n",
       "      <td>3.9</td>\n",
       "      <td>Cyclopentasiloxane, Algae (Seaweed) Extract, G...</td>\n",
       "      <td>0</td>\n",
       "      <td>0</td>\n",
       "      <td>0</td>\n",
       "      <td>0</td>\n",
       "      <td>0</td>\n",
       "    </tr>\n",
       "    <tr>\n",
       "      <th>601</th>\n",
       "      <td>Treatment</td>\n",
       "      <td>LA MER</td>\n",
       "      <td>The Regenerating Serum</td>\n",
       "      <td>345</td>\n",
       "      <td>3.9</td>\n",
       "      <td>Water, Algae (Seaweed) Extract, Dimethicone, H...</td>\n",
       "      <td>1</td>\n",
       "      <td>1</td>\n",
       "      <td>1</td>\n",
       "      <td>1</td>\n",
       "      <td>1</td>\n",
       "    </tr>\n",
       "    <tr>\n",
       "      <th>9</th>\n",
       "      <td>Moisturizer</td>\n",
       "      <td>LA MER</td>\n",
       "      <td>Little Miss Miracle Limited-Edition Crème de l...</td>\n",
       "      <td>325</td>\n",
       "      <td>5.0</td>\n",
       "      <td>Algae (Seaweed) Extract, Mineral Oil, Petrolat...</td>\n",
       "      <td>0</td>\n",
       "      <td>0</td>\n",
       "      <td>0</td>\n",
       "      <td>0</td>\n",
       "      <td>0</td>\n",
       "    </tr>\n",
       "    <tr>\n",
       "      <th>790</th>\n",
       "      <td>Treatment</td>\n",
       "      <td>SHISEIDO</td>\n",
       "      <td>Future Solution LX Intensive Firming Contour S...</td>\n",
       "      <td>300</td>\n",
       "      <td>4.3</td>\n",
       "      <td>Dimethicone, Dipropylene Glycol, Glycerin, Bis...</td>\n",
       "      <td>1</td>\n",
       "      <td>1</td>\n",
       "      <td>1</td>\n",
       "      <td>1</td>\n",
       "      <td>1</td>\n",
       "    </tr>\n",
       "    <tr>\n",
       "      <th>665</th>\n",
       "      <td>Treatment</td>\n",
       "      <td>BIOEFFECT</td>\n",
       "      <td>30 Day Treatment</td>\n",
       "      <td>290</td>\n",
       "      <td>5.0</td>\n",
       "      <td>Glycerin, Water, Sodium Hyaluronate, Trometham...</td>\n",
       "      <td>1</td>\n",
       "      <td>1</td>\n",
       "      <td>1</td>\n",
       "      <td>1</td>\n",
       "      <td>1</td>\n",
       "    </tr>\n",
       "  </tbody>\n",
       "</table>\n",
       "</div>"
      ],
      "text/plain": [
       "           Label      Brand  \\\n",
       "587    Treatment     LA MER   \n",
       "601    Treatment     LA MER   \n",
       "9    Moisturizer     LA MER   \n",
       "790    Treatment   SHISEIDO   \n",
       "665    Treatment  BIOEFFECT   \n",
       "\n",
       "                                                  Name  Price  Rank  \\\n",
       "587                                    The Concentrate    370   3.9   \n",
       "601                             The Regenerating Serum    345   3.9   \n",
       "9    Little Miss Miracle Limited-Edition Crème de l...    325   5.0   \n",
       "790  Future Solution LX Intensive Firming Contour S...    300   4.3   \n",
       "665                                   30 Day Treatment    290   5.0   \n",
       "\n",
       "                                           Ingredients  Combination  Dry  \\\n",
       "587  Cyclopentasiloxane, Algae (Seaweed) Extract, G...            0    0   \n",
       "601  Water, Algae (Seaweed) Extract, Dimethicone, H...            1    1   \n",
       "9    Algae (Seaweed) Extract, Mineral Oil, Petrolat...            0    0   \n",
       "790  Dimethicone, Dipropylene Glycol, Glycerin, Bis...            1    1   \n",
       "665  Glycerin, Water, Sodium Hyaluronate, Trometham...            1    1   \n",
       "\n",
       "     Normal  Oily  Sensitive  \n",
       "587       0     0          0  \n",
       "601       1     1          1  \n",
       "9         0     0          0  \n",
       "790       1     1          1  \n",
       "665       1     1          1  "
      ]
     },
     "execution_count": 113,
     "metadata": {},
     "output_type": "execute_result"
    }
   ],
   "source": [
    "# Sorting cosmetics data by price\n",
    "cosmetics.sort_values(by=[\"Price\"], ascending=False).head()"
   ]
  },
  {
   "cell_type": "code",
   "execution_count": 114,
   "id": "6eca887e-6f2d-43e6-ae80-c2fb02bc338a",
   "metadata": {
    "scrolled": true
   },
   "outputs": [
    {
     "data": {
      "text/html": [
       "<div>\n",
       "<style scoped>\n",
       "    .dataframe tbody tr th:only-of-type {\n",
       "        vertical-align: middle;\n",
       "    }\n",
       "\n",
       "    .dataframe tbody tr th {\n",
       "        vertical-align: top;\n",
       "    }\n",
       "\n",
       "    .dataframe thead th {\n",
       "        text-align: right;\n",
       "    }\n",
       "</style>\n",
       "<table border=\"1\" class=\"dataframe\">\n",
       "  <thead>\n",
       "    <tr style=\"text-align: right;\">\n",
       "      <th></th>\n",
       "      <th>Label</th>\n",
       "      <th>Brand</th>\n",
       "      <th>Name</th>\n",
       "      <th>Price</th>\n",
       "      <th>Rank</th>\n",
       "      <th>Ingredients</th>\n",
       "      <th>Combination</th>\n",
       "      <th>Dry</th>\n",
       "      <th>Normal</th>\n",
       "      <th>Oily</th>\n",
       "      <th>Sensitive</th>\n",
       "    </tr>\n",
       "  </thead>\n",
       "  <tbody>\n",
       "    <tr>\n",
       "      <th>966</th>\n",
       "      <td>Face Mask</td>\n",
       "      <td>SEPHORA COLLECTION</td>\n",
       "      <td>Sleeping Mask - Coconut Water</td>\n",
       "      <td>4</td>\n",
       "      <td>5.0</td>\n",
       "      <td>Water, Butylene Glycol, Glycerin, Betaine, Phe...</td>\n",
       "      <td>1</td>\n",
       "      <td>1</td>\n",
       "      <td>1</td>\n",
       "      <td>1</td>\n",
       "      <td>1</td>\n",
       "    </tr>\n",
       "    <tr>\n",
       "      <th>974</th>\n",
       "      <td>Face Mask</td>\n",
       "      <td>SEPHORA COLLECTION</td>\n",
       "      <td>Sleeping Mask - Aloe Vera</td>\n",
       "      <td>4</td>\n",
       "      <td>5.0</td>\n",
       "      <td>Water, Butylene Glycol, Glycerin, Phenoxyethan...</td>\n",
       "      <td>1</td>\n",
       "      <td>1</td>\n",
       "      <td>1</td>\n",
       "      <td>1</td>\n",
       "      <td>1</td>\n",
       "    </tr>\n",
       "    <tr>\n",
       "      <th>953</th>\n",
       "      <td>Face Mask</td>\n",
       "      <td>SEPHORA COLLECTION</td>\n",
       "      <td>Face Mask - Grape - Anti-pollution</td>\n",
       "      <td>6</td>\n",
       "      <td>5.0</td>\n",
       "      <td>Water, Butylene Glycol, Glycerin, Betaine, Alo...</td>\n",
       "      <td>1</td>\n",
       "      <td>1</td>\n",
       "      <td>1</td>\n",
       "      <td>1</td>\n",
       "      <td>1</td>\n",
       "    </tr>\n",
       "    <tr>\n",
       "      <th>572</th>\n",
       "      <td>Cleanser</td>\n",
       "      <td>SEPHORA COLLECTION</td>\n",
       "      <td>Cleansing Wipes - Pomegranate - Energizing</td>\n",
       "      <td>7</td>\n",
       "      <td>5.0</td>\n",
       "      <td>No Info</td>\n",
       "      <td>0</td>\n",
       "      <td>0</td>\n",
       "      <td>0</td>\n",
       "      <td>0</td>\n",
       "      <td>0</td>\n",
       "    </tr>\n",
       "    <tr>\n",
       "      <th>954</th>\n",
       "      <td>Face Mask</td>\n",
       "      <td>FOREO</td>\n",
       "      <td>Make My Day Hydrating &amp; Anti-Pollution UFO™ Ac...</td>\n",
       "      <td>9</td>\n",
       "      <td>5.0</td>\n",
       "      <td>-Hyaluronic Acid -Red Algae</td>\n",
       "      <td>1</td>\n",
       "      <td>1</td>\n",
       "      <td>1</td>\n",
       "      <td>1</td>\n",
       "      <td>1</td>\n",
       "    </tr>\n",
       "  </tbody>\n",
       "</table>\n",
       "</div>"
      ],
      "text/plain": [
       "         Label               Brand  \\\n",
       "966  Face Mask  SEPHORA COLLECTION   \n",
       "974  Face Mask  SEPHORA COLLECTION   \n",
       "953  Face Mask  SEPHORA COLLECTION   \n",
       "572   Cleanser  SEPHORA COLLECTION   \n",
       "954  Face Mask               FOREO   \n",
       "\n",
       "                                                  Name  Price  Rank  \\\n",
       "966                      Sleeping Mask - Coconut Water      4   5.0   \n",
       "974                          Sleeping Mask - Aloe Vera      4   5.0   \n",
       "953                 Face Mask - Grape - Anti-pollution      6   5.0   \n",
       "572         Cleansing Wipes - Pomegranate - Energizing      7   5.0   \n",
       "954  Make My Day Hydrating & Anti-Pollution UFO™ Ac...      9   5.0   \n",
       "\n",
       "                                           Ingredients  Combination  Dry  \\\n",
       "966  Water, Butylene Glycol, Glycerin, Betaine, Phe...            1    1   \n",
       "974  Water, Butylene Glycol, Glycerin, Phenoxyethan...            1    1   \n",
       "953  Water, Butylene Glycol, Glycerin, Betaine, Alo...            1    1   \n",
       "572                                            No Info            0    0   \n",
       "954                        -Hyaluronic Acid -Red Algae            1    1   \n",
       "\n",
       "     Normal  Oily  Sensitive  \n",
       "966       1     1          1  \n",
       "974       1     1          1  \n",
       "953       1     1          1  \n",
       "572       0     0          0  \n",
       "954       1     1          1  "
      ]
     },
     "execution_count": 114,
     "metadata": {},
     "output_type": "execute_result"
    }
   ],
   "source": [
    "# Ranking based on both rating and price\n",
    "cosmetics.sort_values(by=[\"Rank\", \"Price\"], ascending=[False, True]).head()"
   ]
  },
  {
   "cell_type": "markdown",
   "id": "83c8ceb5",
   "metadata": {},
   "source": [
    " ##### <font color = f66060> 4. Генерирование новых переменных"
   ]
  },
  {
   "cell_type": "code",
   "execution_count": 115,
   "id": "efc417a4-145c-46bf-bb6e-0d680a8a8774",
   "metadata": {},
   "outputs": [
    {
     "data": {
      "text/plain": [
       "0       0\n",
       "1       0\n",
       "2       0\n",
       "3       0\n",
       "4       0\n",
       "       ..\n",
       "1467    0\n",
       "1468    0\n",
       "1469    0\n",
       "1470    0\n",
       "1471    0\n",
       "Name: Rank, Length: 1472, dtype: int64"
      ]
     },
     "execution_count": 115,
     "metadata": {},
     "output_type": "execute_result"
    }
   ],
   "source": [
    "# Scoring variables converted to binary form\n",
    "cosmetics[\"Rank\"].apply(lambda x: 1 if x == 5 else 0)"
   ]
  },
  {
   "cell_type": "code",
   "execution_count": 116,
   "id": "9af39083-4910-46df-9509-03c82f65edb2",
   "metadata": {},
   "outputs": [
    {
     "data": {
      "text/html": [
       "<div>\n",
       "<style scoped>\n",
       "    .dataframe tbody tr th:only-of-type {\n",
       "        vertical-align: middle;\n",
       "    }\n",
       "\n",
       "    .dataframe tbody tr th {\n",
       "        vertical-align: top;\n",
       "    }\n",
       "\n",
       "    .dataframe thead th {\n",
       "        text-align: right;\n",
       "    }\n",
       "</style>\n",
       "<table border=\"1\" class=\"dataframe\">\n",
       "  <thead>\n",
       "    <tr style=\"text-align: right;\">\n",
       "      <th></th>\n",
       "      <th>Label</th>\n",
       "      <th>Brand</th>\n",
       "      <th>Name</th>\n",
       "      <th>Price</th>\n",
       "      <th>Rank</th>\n",
       "      <th>Ingredients</th>\n",
       "      <th>Combination</th>\n",
       "      <th>Dry</th>\n",
       "      <th>Normal</th>\n",
       "      <th>Oily</th>\n",
       "      <th>Sensitive</th>\n",
       "      <th>rank_top</th>\n",
       "    </tr>\n",
       "  </thead>\n",
       "  <tbody>\n",
       "    <tr>\n",
       "      <th>0</th>\n",
       "      <td>Moisturizer</td>\n",
       "      <td>LA MER</td>\n",
       "      <td>Crème de la Mer</td>\n",
       "      <td>175</td>\n",
       "      <td>4.1</td>\n",
       "      <td>Algae (Seaweed) Extract, Mineral Oil, Petrolat...</td>\n",
       "      <td>1</td>\n",
       "      <td>1</td>\n",
       "      <td>1</td>\n",
       "      <td>1</td>\n",
       "      <td>1</td>\n",
       "      <td>0</td>\n",
       "    </tr>\n",
       "    <tr>\n",
       "      <th>1</th>\n",
       "      <td>Moisturizer</td>\n",
       "      <td>SK-II</td>\n",
       "      <td>Facial Treatment Essence</td>\n",
       "      <td>179</td>\n",
       "      <td>4.1</td>\n",
       "      <td>Galactomyces Ferment Filtrate (Pitera), Butyle...</td>\n",
       "      <td>1</td>\n",
       "      <td>1</td>\n",
       "      <td>1</td>\n",
       "      <td>1</td>\n",
       "      <td>1</td>\n",
       "      <td>0</td>\n",
       "    </tr>\n",
       "    <tr>\n",
       "      <th>2</th>\n",
       "      <td>Moisturizer</td>\n",
       "      <td>DRUNK ELEPHANT</td>\n",
       "      <td>Protini™ Polypeptide Cream</td>\n",
       "      <td>68</td>\n",
       "      <td>4.4</td>\n",
       "      <td>Water, Dicaprylyl Carbonate, Glycerin, Ceteary...</td>\n",
       "      <td>1</td>\n",
       "      <td>1</td>\n",
       "      <td>1</td>\n",
       "      <td>1</td>\n",
       "      <td>0</td>\n",
       "      <td>0</td>\n",
       "    </tr>\n",
       "    <tr>\n",
       "      <th>3</th>\n",
       "      <td>Moisturizer</td>\n",
       "      <td>LA MER</td>\n",
       "      <td>The Moisturizing Soft Cream</td>\n",
       "      <td>175</td>\n",
       "      <td>3.8</td>\n",
       "      <td>Algae (Seaweed) Extract, Cyclopentasiloxane, P...</td>\n",
       "      <td>1</td>\n",
       "      <td>1</td>\n",
       "      <td>1</td>\n",
       "      <td>1</td>\n",
       "      <td>1</td>\n",
       "      <td>0</td>\n",
       "    </tr>\n",
       "    <tr>\n",
       "      <th>4</th>\n",
       "      <td>Moisturizer</td>\n",
       "      <td>IT COSMETICS</td>\n",
       "      <td>Your Skin But Better™ CC+™ Cream with SPF 50+</td>\n",
       "      <td>38</td>\n",
       "      <td>4.1</td>\n",
       "      <td>Water, Snail Secretion Filtrate, Phenyl Trimet...</td>\n",
       "      <td>1</td>\n",
       "      <td>1</td>\n",
       "      <td>1</td>\n",
       "      <td>1</td>\n",
       "      <td>1</td>\n",
       "      <td>0</td>\n",
       "    </tr>\n",
       "  </tbody>\n",
       "</table>\n",
       "</div>"
      ],
      "text/plain": [
       "         Label           Brand                                           Name  \\\n",
       "0  Moisturizer          LA MER                                Crème de la Mer   \n",
       "1  Moisturizer           SK-II                       Facial Treatment Essence   \n",
       "2  Moisturizer  DRUNK ELEPHANT                     Protini™ Polypeptide Cream   \n",
       "3  Moisturizer          LA MER                    The Moisturizing Soft Cream   \n",
       "4  Moisturizer    IT COSMETICS  Your Skin But Better™ CC+™ Cream with SPF 50+   \n",
       "\n",
       "   Price  Rank                                        Ingredients  \\\n",
       "0    175   4.1  Algae (Seaweed) Extract, Mineral Oil, Petrolat...   \n",
       "1    179   4.1  Galactomyces Ferment Filtrate (Pitera), Butyle...   \n",
       "2     68   4.4  Water, Dicaprylyl Carbonate, Glycerin, Ceteary...   \n",
       "3    175   3.8  Algae (Seaweed) Extract, Cyclopentasiloxane, P...   \n",
       "4     38   4.1  Water, Snail Secretion Filtrate, Phenyl Trimet...   \n",
       "\n",
       "   Combination  Dry  Normal  Oily  Sensitive  rank_top  \n",
       "0            1    1       1     1          1         0  \n",
       "1            1    1       1     1          1         0  \n",
       "2            1    1       1     1          0         0  \n",
       "3            1    1       1     1          1         0  \n",
       "4            1    1       1     1          1         0  "
      ]
     },
     "execution_count": 116,
     "metadata": {},
     "output_type": "execute_result"
    }
   ],
   "source": [
    "# Generate a new variable rank_top, where the product with a score of 5 will be 1 and the rest will be 0\n",
    "cosmetics[\"rank_top\"] = cosmetics[\"Rank\"].apply(lambda x: 1 if x == 5 else 0)\n",
    "cosmetics.head()"
   ]
  },
  {
   "cell_type": "code",
   "execution_count": 117,
   "id": "f920a37f-54f5-4e13-9b09-81c76be4005e",
   "metadata": {},
   "outputs": [
    {
     "name": "stdout",
     "output_type": "stream",
     "text": [
      "47\n",
      "47\n"
     ]
    }
   ],
   "source": [
    "# Calculate the quantity of top rated cosmetics\n",
    "print(cosmetics[\"rank_top\"].sum())  # of 1's in the new variable\n",
    "print((cosmetics[\"Rank\"] == 5).sum())  # Quantity of top rated cosmetics"
   ]
  },
  {
   "cell_type": "code",
   "execution_count": 118,
   "id": "d4bdbf1c-abcc-40d0-af3d-235600cf3395",
   "metadata": {},
   "outputs": [
    {
     "data": {
      "text/plain": [
       "55.58423913043478"
      ]
     },
     "execution_count": 118,
     "metadata": {},
     "output_type": "execute_result"
    }
   ],
   "source": [
    "# Check price averages\n",
    "cosmetics[\"Price\"].mean()"
   ]
  },
  {
   "cell_type": "code",
   "execution_count": 119,
   "id": "569a4732-0fd9-497b-a628-ff76292e2817",
   "metadata": {
    "scrolled": true
   },
   "outputs": [
    {
     "data": {
      "text/html": [
       "<div>\n",
       "<style scoped>\n",
       "    .dataframe tbody tr th:only-of-type {\n",
       "        vertical-align: middle;\n",
       "    }\n",
       "\n",
       "    .dataframe tbody tr th {\n",
       "        vertical-align: top;\n",
       "    }\n",
       "\n",
       "    .dataframe thead th {\n",
       "        text-align: right;\n",
       "    }\n",
       "</style>\n",
       "<table border=\"1\" class=\"dataframe\">\n",
       "  <thead>\n",
       "    <tr style=\"text-align: right;\">\n",
       "      <th></th>\n",
       "      <th>Label</th>\n",
       "      <th>Brand</th>\n",
       "      <th>Name</th>\n",
       "      <th>Price</th>\n",
       "      <th>Rank</th>\n",
       "      <th>Ingredients</th>\n",
       "      <th>Combination</th>\n",
       "      <th>Dry</th>\n",
       "      <th>Normal</th>\n",
       "      <th>Oily</th>\n",
       "      <th>Sensitive</th>\n",
       "      <th>rank_top</th>\n",
       "      <th>price_cat</th>\n",
       "    </tr>\n",
       "  </thead>\n",
       "  <tbody>\n",
       "    <tr>\n",
       "      <th>0</th>\n",
       "      <td>Moisturizer</td>\n",
       "      <td>LA MER</td>\n",
       "      <td>Crème de la Mer</td>\n",
       "      <td>175</td>\n",
       "      <td>4.1</td>\n",
       "      <td>Algae (Seaweed) Extract, Mineral Oil, Petrolat...</td>\n",
       "      <td>1</td>\n",
       "      <td>1</td>\n",
       "      <td>1</td>\n",
       "      <td>1</td>\n",
       "      <td>1</td>\n",
       "      <td>0</td>\n",
       "      <td>High</td>\n",
       "    </tr>\n",
       "    <tr>\n",
       "      <th>1</th>\n",
       "      <td>Moisturizer</td>\n",
       "      <td>SK-II</td>\n",
       "      <td>Facial Treatment Essence</td>\n",
       "      <td>179</td>\n",
       "      <td>4.1</td>\n",
       "      <td>Galactomyces Ferment Filtrate (Pitera), Butyle...</td>\n",
       "      <td>1</td>\n",
       "      <td>1</td>\n",
       "      <td>1</td>\n",
       "      <td>1</td>\n",
       "      <td>1</td>\n",
       "      <td>0</td>\n",
       "      <td>High</td>\n",
       "    </tr>\n",
       "    <tr>\n",
       "      <th>2</th>\n",
       "      <td>Moisturizer</td>\n",
       "      <td>DRUNK ELEPHANT</td>\n",
       "      <td>Protini™ Polypeptide Cream</td>\n",
       "      <td>68</td>\n",
       "      <td>4.4</td>\n",
       "      <td>Water, Dicaprylyl Carbonate, Glycerin, Ceteary...</td>\n",
       "      <td>1</td>\n",
       "      <td>1</td>\n",
       "      <td>1</td>\n",
       "      <td>1</td>\n",
       "      <td>0</td>\n",
       "      <td>0</td>\n",
       "      <td>Middle+</td>\n",
       "    </tr>\n",
       "    <tr>\n",
       "      <th>3</th>\n",
       "      <td>Moisturizer</td>\n",
       "      <td>LA MER</td>\n",
       "      <td>The Moisturizing Soft Cream</td>\n",
       "      <td>175</td>\n",
       "      <td>3.8</td>\n",
       "      <td>Algae (Seaweed) Extract, Cyclopentasiloxane, P...</td>\n",
       "      <td>1</td>\n",
       "      <td>1</td>\n",
       "      <td>1</td>\n",
       "      <td>1</td>\n",
       "      <td>1</td>\n",
       "      <td>0</td>\n",
       "      <td>High</td>\n",
       "    </tr>\n",
       "    <tr>\n",
       "      <th>4</th>\n",
       "      <td>Moisturizer</td>\n",
       "      <td>IT COSMETICS</td>\n",
       "      <td>Your Skin But Better™ CC+™ Cream with SPF 50+</td>\n",
       "      <td>38</td>\n",
       "      <td>4.1</td>\n",
       "      <td>Water, Snail Secretion Filtrate, Phenyl Trimet...</td>\n",
       "      <td>1</td>\n",
       "      <td>1</td>\n",
       "      <td>1</td>\n",
       "      <td>1</td>\n",
       "      <td>1</td>\n",
       "      <td>0</td>\n",
       "      <td>Middle-</td>\n",
       "    </tr>\n",
       "  </tbody>\n",
       "</table>\n",
       "</div>"
      ],
      "text/plain": [
       "         Label           Brand                                           Name  \\\n",
       "0  Moisturizer          LA MER                                Crème de la Mer   \n",
       "1  Moisturizer           SK-II                       Facial Treatment Essence   \n",
       "2  Moisturizer  DRUNK ELEPHANT                     Protini™ Polypeptide Cream   \n",
       "3  Moisturizer          LA MER                    The Moisturizing Soft Cream   \n",
       "4  Moisturizer    IT COSMETICS  Your Skin But Better™ CC+™ Cream with SPF 50+   \n",
       "\n",
       "   Price  Rank                                        Ingredients  \\\n",
       "0    175   4.1  Algae (Seaweed) Extract, Mineral Oil, Petrolat...   \n",
       "1    179   4.1  Galactomyces Ferment Filtrate (Pitera), Butyle...   \n",
       "2     68   4.4  Water, Dicaprylyl Carbonate, Glycerin, Ceteary...   \n",
       "3    175   3.8  Algae (Seaweed) Extract, Cyclopentasiloxane, P...   \n",
       "4     38   4.1  Water, Snail Secretion Filtrate, Phenyl Trimet...   \n",
       "\n",
       "   Combination  Dry  Normal  Oily  Sensitive  rank_top price_cat  \n",
       "0            1    1       1     1          1         0      High  \n",
       "1            1    1       1     1          1         0      High  \n",
       "2            1    1       1     1          0         0   Middle+  \n",
       "3            1    1       1     1          1         0      High  \n",
       "4            1    1       1     1          1         0   Middle-  "
      ]
     },
     "execution_count": 119,
     "metadata": {},
     "output_type": "execute_result"
    }
   ],
   "source": [
    "# Classification levels\n",
    "def get_price_cat(price):\n",
    "    if price < 30:\n",
    "        return \"Low\"\n",
    "    elif price < 40:\n",
    "        return \"Middle-\"\n",
    "    elif price < 70:\n",
    "        return \"Middle+\"\n",
    "    elif price >= 70:\n",
    "        return \"High\"\n",
    "    else:\n",
    "        return price\n",
    "\n",
    "\n",
    "# Use price_cat new variable, and save to dataset\n",
    "cosmetics[\"price_cat\"] = cosmetics[\"Price\"].apply(get_price_cat)\n",
    "cosmetics[\"price_cat\"] = pd.Categorical(cosmetics[\"price_cat\"])\n",
    "cosmetics.head()"
   ]
  },
  {
   "cell_type": "markdown",
   "id": "86b44334",
   "metadata": {},
   "source": [
    " ##### <font color = f66060> 5.Базовая визуализация данных"
   ]
  },
  {
   "cell_type": "code",
   "execution_count": 120,
   "id": "fe057e14-be02-45d9-afff-8e73c5cff667",
   "metadata": {
    "scrolled": true
   },
   "outputs": [
    {
     "data": {
      "text/plain": [
       "<AxesSubplot:>"
      ]
     },
     "execution_count": 120,
     "metadata": {},
     "output_type": "execute_result"
    },
    {
     "data": {
      "image/png": "[encoded data removed]",
      "text/plain": [
       "<Figure size 432x288 with 1 Axes>"
      ]
     },
     "metadata": {
      "needs_background": "light"
     },
     "output_type": "display_data"
    }
   ],
   "source": [
    "# Cosmetics by price distribution\n",
    "cosmetics[\"Price\"].hist(bins=90, color=\"#f66060\")"
   ]
  },
  {
   "cell_type": "markdown",
   "id": "d9b84f31",
   "metadata": {},
   "source": [
    "__5.1 Мы видим, что цена единицы косметики в основном сосредоточена между 0 и 50 usd.__"
   ]
  },
  {
   "cell_type": "code",
   "execution_count": 121,
   "id": "551bcd89-a39c-46ba-9e0f-d1e42dddd922",
   "metadata": {},
   "outputs": [
    {
     "data": {
      "text/plain": [
       "Middle+    476\n",
       "Low        359\n",
       "High       334\n",
       "Middle-    303\n",
       "Name: price_cat, dtype: int64"
      ]
     },
     "execution_count": 121,
     "metadata": {},
     "output_type": "execute_result"
    }
   ],
   "source": [
    "# of cosmetics with different price classifications\n",
    "cosmetics[\"price_cat\"].value_counts()"
   ]
  },
  {
   "cell_type": "code",
   "execution_count": 122,
   "id": "ab8d7d6a-ab6d-4322-bf17-c47bda8f05cf",
   "metadata": {},
   "outputs": [
    {
     "data": {
      "text/plain": [
       "<AxesSubplot:title={'center':'price'}>"
      ]
     },
     "execution_count": 122,
     "metadata": {},
     "output_type": "execute_result"
    },
    {
     "data": {
      "image/png": "[encoded data removed]",
      "text/plain": [
       "<Figure size 432x288 with 1 Axes>"
      ]
     },
     "metadata": {
      "needs_background": "light"
     },
     "output_type": "display_data"
    }
   ],
   "source": [
    "# Price classifications distribution\n",
    "cosmetics[\"price_cat\"].value_counts().plot(\n",
    "    kind=\"bar\", color=\"#f66060\", title=\"price\")"
   ]
  },
  {
   "cell_type": "code",
   "execution_count": 123,
   "id": "e4a3361d-7214-4365-b73d-f41a2edb5eed",
   "metadata": {
    "scrolled": true
   },
   "outputs": [
    {
     "data": {
      "text/plain": [
       "<AxesSubplot:title={'center':'price & Oily'}, xlabel='price_cat'>"
      ]
     },
     "execution_count": 123,
     "metadata": {},
     "output_type": "execute_result"
    },
    {
     "data": {
      "image/png": "[encoded data removed]",
      "text/plain": [
       "<Figure size 432x288 with 1 Axes>"
      ]
     },
     "metadata": {
      "needs_background": "light"
     },
     "output_type": "display_data"
    }
   ],
   "source": [
    "# Price classification of cosmetics in relation to oily skin\n",
    "cosmetics.groupby('price_cat')['Oily'].value_counts().unstack().plot(kind='bar', stacked=True, color = ['#f66060', '#B8FB60'], title = 'price & Oily')"
   ]
  },
  {
   "cell_type": "markdown",
   "id": "1e2f3e63",
   "metadata": {},
   "source": [
    "__5.2 Мы видим обзор цен на косметику для жирной кожи.__"
   ]
  },
  {
   "cell_type": "code",
   "execution_count": 124,
   "id": "1320571b-4835-453e-be91-521e8f9f474c",
   "metadata": {
    "scrolled": false
   },
   "outputs": [
    {
     "data": {
      "text/plain": [
       "<AxesSubplot:title={'center':'Price & Normal'}, ylabel='Normal'>"
      ]
     },
     "execution_count": 124,
     "metadata": {},
     "output_type": "execute_result"
    },
    {
     "data": {
      "image/png": "[encoded data removed]",
      "text/plain": [
       "<Figure size 432x288 with 1 Axes>"
      ]
     },
     "metadata": {},
     "output_type": "display_data"
    }
   ],
   "source": [
    "# Cosmetic prices in relation to normal skin\n",
    "colors = ['#D1D1D1', '#FECBFA', '#B8FB60', '#1DB954']\n",
    "cosmetics.groupby('price_cat')['Normal'].sum().plot(kind = 'pie', colors = colors, explode = [0, 0, 0, 0.1], autopct='%1.0f%%', title = 'Price & Normal')"
   ]
  },
  {
   "cell_type": "markdown",
   "id": "8850c7a9",
   "metadata": {},
   "source": [
    "__5.2 Из круглой диаграммы мы видим диапазон цен на увлажняющую косметику для обычного типа кожи. Основное внимание уделяется среднему ценовому диапазону.__"
   ]
  },
  {
   "cell_type": "markdown",
   "id": "fa9345d1",
   "metadata": {},
   "source": [
    "__5.3 Мы видим, что цены косметических брендов в базе данных в основном распределены в низком и среднем ценовом диапазоне.__"
   ]
  },
  {
   "cell_type": "markdown",
   "id": "9d7a80b0",
   "metadata": {},
   "source": [
    " ### <font color = f66060> 6. Анализ корреляции"
   ]
  },
  {
   "cell_type": "code",
   "execution_count": 125,
   "id": "22f34ff0-5c1c-49a5-b926-ef83bee017de",
   "metadata": {},
   "outputs": [
    {
     "data": {
      "text/html": [
       "<div>\n",
       "<style scoped>\n",
       "    .dataframe tbody tr th:only-of-type {\n",
       "        vertical-align: middle;\n",
       "    }\n",
       "\n",
       "    .dataframe tbody tr th {\n",
       "        vertical-align: top;\n",
       "    }\n",
       "\n",
       "    .dataframe thead th {\n",
       "        text-align: right;\n",
       "    }\n",
       "</style>\n",
       "<table border=\"1\" class=\"dataframe\">\n",
       "  <thead>\n",
       "    <tr style=\"text-align: right;\">\n",
       "      <th></th>\n",
       "      <th>Price</th>\n",
       "      <th>Rank</th>\n",
       "      <th>Combination</th>\n",
       "      <th>Dry</th>\n",
       "      <th>Normal</th>\n",
       "      <th>Oily</th>\n",
       "      <th>Sensitive</th>\n",
       "      <th>rank_top</th>\n",
       "    </tr>\n",
       "  </thead>\n",
       "  <tbody>\n",
       "    <tr>\n",
       "      <th>count</th>\n",
       "      <td>1472.000000</td>\n",
       "      <td>1472.000000</td>\n",
       "      <td>1472.00000</td>\n",
       "      <td>1472.000000</td>\n",
       "      <td>1472.000000</td>\n",
       "      <td>1472.000000</td>\n",
       "      <td>1472.000000</td>\n",
       "      <td>1472.000000</td>\n",
       "    </tr>\n",
       "    <tr>\n",
       "      <th>mean</th>\n",
       "      <td>55.584239</td>\n",
       "      <td>4.153261</td>\n",
       "      <td>0.65625</td>\n",
       "      <td>0.614130</td>\n",
       "      <td>0.652174</td>\n",
       "      <td>0.607337</td>\n",
       "      <td>0.513587</td>\n",
       "      <td>0.031929</td>\n",
       "    </tr>\n",
       "    <tr>\n",
       "      <th>std</th>\n",
       "      <td>45.014429</td>\n",
       "      <td>0.633918</td>\n",
       "      <td>0.47512</td>\n",
       "      <td>0.486965</td>\n",
       "      <td>0.476442</td>\n",
       "      <td>0.488509</td>\n",
       "      <td>0.499985</td>\n",
       "      <td>0.175872</td>\n",
       "    </tr>\n",
       "    <tr>\n",
       "      <th>min</th>\n",
       "      <td>3.000000</td>\n",
       "      <td>0.000000</td>\n",
       "      <td>0.00000</td>\n",
       "      <td>0.000000</td>\n",
       "      <td>0.000000</td>\n",
       "      <td>0.000000</td>\n",
       "      <td>0.000000</td>\n",
       "      <td>0.000000</td>\n",
       "    </tr>\n",
       "    <tr>\n",
       "      <th>25%</th>\n",
       "      <td>30.000000</td>\n",
       "      <td>4.000000</td>\n",
       "      <td>0.00000</td>\n",
       "      <td>0.000000</td>\n",
       "      <td>0.000000</td>\n",
       "      <td>0.000000</td>\n",
       "      <td>0.000000</td>\n",
       "      <td>0.000000</td>\n",
       "    </tr>\n",
       "    <tr>\n",
       "      <th>50%</th>\n",
       "      <td>42.500000</td>\n",
       "      <td>4.300000</td>\n",
       "      <td>1.00000</td>\n",
       "      <td>1.000000</td>\n",
       "      <td>1.000000</td>\n",
       "      <td>1.000000</td>\n",
       "      <td>1.000000</td>\n",
       "      <td>0.000000</td>\n",
       "    </tr>\n",
       "    <tr>\n",
       "      <th>75%</th>\n",
       "      <td>68.000000</td>\n",
       "      <td>4.500000</td>\n",
       "      <td>1.00000</td>\n",
       "      <td>1.000000</td>\n",
       "      <td>1.000000</td>\n",
       "      <td>1.000000</td>\n",
       "      <td>1.000000</td>\n",
       "      <td>0.000000</td>\n",
       "    </tr>\n",
       "    <tr>\n",
       "      <th>max</th>\n",
       "      <td>370.000000</td>\n",
       "      <td>5.000000</td>\n",
       "      <td>1.00000</td>\n",
       "      <td>1.000000</td>\n",
       "      <td>1.000000</td>\n",
       "      <td>1.000000</td>\n",
       "      <td>1.000000</td>\n",
       "      <td>1.000000</td>\n",
       "    </tr>\n",
       "  </tbody>\n",
       "</table>\n",
       "</div>"
      ],
      "text/plain": [
       "             Price         Rank  Combination          Dry       Normal  \\\n",
       "count  1472.000000  1472.000000   1472.00000  1472.000000  1472.000000   \n",
       "mean     55.584239     4.153261      0.65625     0.614130     0.652174   \n",
       "std      45.014429     0.633918      0.47512     0.486965     0.476442   \n",
       "min       3.000000     0.000000      0.00000     0.000000     0.000000   \n",
       "25%      30.000000     4.000000      0.00000     0.000000     0.000000   \n",
       "50%      42.500000     4.300000      1.00000     1.000000     1.000000   \n",
       "75%      68.000000     4.500000      1.00000     1.000000     1.000000   \n",
       "max     370.000000     5.000000      1.00000     1.000000     1.000000   \n",
       "\n",
       "              Oily    Sensitive     rank_top  \n",
       "count  1472.000000  1472.000000  1472.000000  \n",
       "mean      0.607337     0.513587     0.031929  \n",
       "std       0.488509     0.499985     0.175872  \n",
       "min       0.000000     0.000000     0.000000  \n",
       "25%       0.000000     0.000000     0.000000  \n",
       "50%       1.000000     1.000000     0.000000  \n",
       "75%       1.000000     1.000000     0.000000  \n",
       "max       1.000000     1.000000     1.000000  "
      ]
     },
     "execution_count": 125,
     "metadata": {},
     "output_type": "execute_result"
    }
   ],
   "source": [
    "# Description of data set\n",
    "cosmetics.describe()"
   ]
  },
  {
   "cell_type": "code",
   "execution_count": 126,
   "id": "3f0c1a78-7413-4f55-8ef3-f7184eee547d",
   "metadata": {},
   "outputs": [
    {
     "data": {
      "text/html": [
       "<div>\n",
       "<style scoped>\n",
       "    .dataframe tbody tr th:only-of-type {\n",
       "        vertical-align: middle;\n",
       "    }\n",
       "\n",
       "    .dataframe tbody tr th {\n",
       "        vertical-align: top;\n",
       "    }\n",
       "\n",
       "    .dataframe thead th {\n",
       "        text-align: right;\n",
       "    }\n",
       "</style>\n",
       "<table border=\"1\" class=\"dataframe\">\n",
       "  <thead>\n",
       "    <tr style=\"text-align: right;\">\n",
       "      <th></th>\n",
       "      <th>Label</th>\n",
       "      <th>Brand</th>\n",
       "      <th>Name</th>\n",
       "      <th>Price</th>\n",
       "      <th>Rank</th>\n",
       "      <th>Ingredients</th>\n",
       "      <th>Combination</th>\n",
       "      <th>Dry</th>\n",
       "      <th>Normal</th>\n",
       "      <th>Oily</th>\n",
       "      <th>Sensitive</th>\n",
       "      <th>rank_top</th>\n",
       "      <th>price_cat</th>\n",
       "    </tr>\n",
       "  </thead>\n",
       "  <tbody>\n",
       "    <tr>\n",
       "      <th>0</th>\n",
       "      <td>Moisturizer</td>\n",
       "      <td>LA MER</td>\n",
       "      <td>Crème de la Mer</td>\n",
       "      <td>175</td>\n",
       "      <td>4.1</td>\n",
       "      <td>Algae (Seaweed) Extract, Mineral Oil, Petrolat...</td>\n",
       "      <td>1</td>\n",
       "      <td>1</td>\n",
       "      <td>1</td>\n",
       "      <td>1</td>\n",
       "      <td>1</td>\n",
       "      <td>0</td>\n",
       "      <td>High</td>\n",
       "    </tr>\n",
       "    <tr>\n",
       "      <th>1</th>\n",
       "      <td>Moisturizer</td>\n",
       "      <td>SK-II</td>\n",
       "      <td>Facial Treatment Essence</td>\n",
       "      <td>179</td>\n",
       "      <td>4.1</td>\n",
       "      <td>Galactomyces Ferment Filtrate (Pitera), Butyle...</td>\n",
       "      <td>1</td>\n",
       "      <td>1</td>\n",
       "      <td>1</td>\n",
       "      <td>1</td>\n",
       "      <td>1</td>\n",
       "      <td>0</td>\n",
       "      <td>High</td>\n",
       "    </tr>\n",
       "    <tr>\n",
       "      <th>2</th>\n",
       "      <td>Moisturizer</td>\n",
       "      <td>DRUNK ELEPHANT</td>\n",
       "      <td>Protini™ Polypeptide Cream</td>\n",
       "      <td>68</td>\n",
       "      <td>4.4</td>\n",
       "      <td>Water, Dicaprylyl Carbonate, Glycerin, Ceteary...</td>\n",
       "      <td>1</td>\n",
       "      <td>1</td>\n",
       "      <td>1</td>\n",
       "      <td>1</td>\n",
       "      <td>0</td>\n",
       "      <td>0</td>\n",
       "      <td>Middle+</td>\n",
       "    </tr>\n",
       "    <tr>\n",
       "      <th>3</th>\n",
       "      <td>Moisturizer</td>\n",
       "      <td>LA MER</td>\n",
       "      <td>The Moisturizing Soft Cream</td>\n",
       "      <td>175</td>\n",
       "      <td>3.8</td>\n",
       "      <td>Algae (Seaweed) Extract, Cyclopentasiloxane, P...</td>\n",
       "      <td>1</td>\n",
       "      <td>1</td>\n",
       "      <td>1</td>\n",
       "      <td>1</td>\n",
       "      <td>1</td>\n",
       "      <td>0</td>\n",
       "      <td>High</td>\n",
       "    </tr>\n",
       "    <tr>\n",
       "      <th>4</th>\n",
       "      <td>Moisturizer</td>\n",
       "      <td>IT COSMETICS</td>\n",
       "      <td>Your Skin But Better™ CC+™ Cream with SPF 50+</td>\n",
       "      <td>38</td>\n",
       "      <td>4.1</td>\n",
       "      <td>Water, Snail Secretion Filtrate, Phenyl Trimet...</td>\n",
       "      <td>1</td>\n",
       "      <td>1</td>\n",
       "      <td>1</td>\n",
       "      <td>1</td>\n",
       "      <td>1</td>\n",
       "      <td>0</td>\n",
       "      <td>Middle-</td>\n",
       "    </tr>\n",
       "    <tr>\n",
       "      <th>...</th>\n",
       "      <td>...</td>\n",
       "      <td>...</td>\n",
       "      <td>...</td>\n",
       "      <td>...</td>\n",
       "      <td>...</td>\n",
       "      <td>...</td>\n",
       "      <td>...</td>\n",
       "      <td>...</td>\n",
       "      <td>...</td>\n",
       "      <td>...</td>\n",
       "      <td>...</td>\n",
       "      <td>...</td>\n",
       "      <td>...</td>\n",
       "    </tr>\n",
       "    <tr>\n",
       "      <th>1467</th>\n",
       "      <td>Sun protect</td>\n",
       "      <td>KORRES</td>\n",
       "      <td>Yoghurt Nourishing Fluid Veil Face Sunscreen B...</td>\n",
       "      <td>35</td>\n",
       "      <td>3.9</td>\n",
       "      <td>Water, Alcohol Denat., Potassium Cetyl Phospha...</td>\n",
       "      <td>1</td>\n",
       "      <td>1</td>\n",
       "      <td>1</td>\n",
       "      <td>1</td>\n",
       "      <td>1</td>\n",
       "      <td>0</td>\n",
       "      <td>Middle-</td>\n",
       "    </tr>\n",
       "    <tr>\n",
       "      <th>1468</th>\n",
       "      <td>Sun protect</td>\n",
       "      <td>KATE SOMERVILLE</td>\n",
       "      <td>Daily Deflector™ Waterlight Broad Spectrum SPF...</td>\n",
       "      <td>48</td>\n",
       "      <td>3.6</td>\n",
       "      <td>Water, Isododecane, Dimethicone, Butyloctyl Sa...</td>\n",
       "      <td>0</td>\n",
       "      <td>0</td>\n",
       "      <td>0</td>\n",
       "      <td>0</td>\n",
       "      <td>0</td>\n",
       "      <td>0</td>\n",
       "      <td>Middle+</td>\n",
       "    </tr>\n",
       "    <tr>\n",
       "      <th>1469</th>\n",
       "      <td>Sun protect</td>\n",
       "      <td>VITA LIBERATA</td>\n",
       "      <td>Self Tan Dry Oil SPF 50</td>\n",
       "      <td>54</td>\n",
       "      <td>3.5</td>\n",
       "      <td>Water, Dihydroxyacetone, Glycerin, Sclerocarya...</td>\n",
       "      <td>0</td>\n",
       "      <td>0</td>\n",
       "      <td>0</td>\n",
       "      <td>0</td>\n",
       "      <td>0</td>\n",
       "      <td>0</td>\n",
       "      <td>Middle+</td>\n",
       "    </tr>\n",
       "    <tr>\n",
       "      <th>1470</th>\n",
       "      <td>Sun protect</td>\n",
       "      <td>ST. TROPEZ TANNING ESSENTIALS</td>\n",
       "      <td>Pro Light Self Tan Bronzing Mist</td>\n",
       "      <td>20</td>\n",
       "      <td>1.0</td>\n",
       "      <td>Water, Dihydroxyacetone, Propylene Glycol, PPG...</td>\n",
       "      <td>0</td>\n",
       "      <td>0</td>\n",
       "      <td>0</td>\n",
       "      <td>0</td>\n",
       "      <td>0</td>\n",
       "      <td>0</td>\n",
       "      <td>Low</td>\n",
       "    </tr>\n",
       "    <tr>\n",
       "      <th>1471</th>\n",
       "      <td>Sun protect</td>\n",
       "      <td>DERMAFLASH</td>\n",
       "      <td>DERMAPROTECT Daily Defense Broad Spectrum SPF 50+</td>\n",
       "      <td>45</td>\n",
       "      <td>0.0</td>\n",
       "      <td>Visit the DERMAFLASH boutique</td>\n",
       "      <td>1</td>\n",
       "      <td>1</td>\n",
       "      <td>1</td>\n",
       "      <td>1</td>\n",
       "      <td>1</td>\n",
       "      <td>0</td>\n",
       "      <td>Middle+</td>\n",
       "    </tr>\n",
       "  </tbody>\n",
       "</table>\n",
       "<p>1472 rows × 13 columns</p>\n",
       "</div>"
      ],
      "text/plain": [
       "            Label                          Brand  \\\n",
       "0     Moisturizer                         LA MER   \n",
       "1     Moisturizer                          SK-II   \n",
       "2     Moisturizer                 DRUNK ELEPHANT   \n",
       "3     Moisturizer                         LA MER   \n",
       "4     Moisturizer                   IT COSMETICS   \n",
       "...           ...                            ...   \n",
       "1467  Sun protect                         KORRES   \n",
       "1468  Sun protect                KATE SOMERVILLE   \n",
       "1469  Sun protect                  VITA LIBERATA   \n",
       "1470  Sun protect  ST. TROPEZ TANNING ESSENTIALS   \n",
       "1471  Sun protect                     DERMAFLASH   \n",
       "\n",
       "                                                   Name  Price  Rank  \\\n",
       "0                                       Crème de la Mer    175   4.1   \n",
       "1                              Facial Treatment Essence    179   4.1   \n",
       "2                            Protini™ Polypeptide Cream     68   4.4   \n",
       "3                           The Moisturizing Soft Cream    175   3.8   \n",
       "4         Your Skin But Better™ CC+™ Cream with SPF 50+     38   4.1   \n",
       "...                                                 ...    ...   ...   \n",
       "1467  Yoghurt Nourishing Fluid Veil Face Sunscreen B...     35   3.9   \n",
       "1468  Daily Deflector™ Waterlight Broad Spectrum SPF...     48   3.6   \n",
       "1469                            Self Tan Dry Oil SPF 50     54   3.5   \n",
       "1470                   Pro Light Self Tan Bronzing Mist     20   1.0   \n",
       "1471  DERMAPROTECT Daily Defense Broad Spectrum SPF 50+     45   0.0   \n",
       "\n",
       "                                            Ingredients  Combination  Dry  \\\n",
       "0     Algae (Seaweed) Extract, Mineral Oil, Petrolat...            1    1   \n",
       "1     Galactomyces Ferment Filtrate (Pitera), Butyle...            1    1   \n",
       "2     Water, Dicaprylyl Carbonate, Glycerin, Ceteary...            1    1   \n",
       "3     Algae (Seaweed) Extract, Cyclopentasiloxane, P...            1    1   \n",
       "4     Water, Snail Secretion Filtrate, Phenyl Trimet...            1    1   \n",
       "...                                                 ...          ...  ...   \n",
       "1467  Water, Alcohol Denat., Potassium Cetyl Phospha...            1    1   \n",
       "1468  Water, Isododecane, Dimethicone, Butyloctyl Sa...            0    0   \n",
       "1469  Water, Dihydroxyacetone, Glycerin, Sclerocarya...            0    0   \n",
       "1470  Water, Dihydroxyacetone, Propylene Glycol, PPG...            0    0   \n",
       "1471                      Visit the DERMAFLASH boutique            1    1   \n",
       "\n",
       "      Normal  Oily  Sensitive  rank_top price_cat  \n",
       "0          1     1          1         0      High  \n",
       "1          1     1          1         0      High  \n",
       "2          1     1          0         0   Middle+  \n",
       "3          1     1          1         0      High  \n",
       "4          1     1          1         0   Middle-  \n",
       "...      ...   ...        ...       ...       ...  \n",
       "1467       1     1          1         0   Middle-  \n",
       "1468       0     0          0         0   Middle+  \n",
       "1469       0     0          0         0   Middle+  \n",
       "1470       0     0          0         0       Low  \n",
       "1471       1     1          1         0   Middle+  \n",
       "\n",
       "[1472 rows x 13 columns]"
      ]
     },
     "execution_count": 126,
     "metadata": {},
     "output_type": "execute_result"
    }
   ],
   "source": [
    "cosmetics"
   ]
  },
  {
   "cell_type": "code",
   "execution_count": 127,
   "id": "101483e7-6253-4080-86a4-ce3382ebf661",
   "metadata": {},
   "outputs": [
    {
     "data": {
      "text/html": [
       "<div>\n",
       "<style scoped>\n",
       "    .dataframe tbody tr th:only-of-type {\n",
       "        vertical-align: middle;\n",
       "    }\n",
       "\n",
       "    .dataframe tbody tr th {\n",
       "        vertical-align: top;\n",
       "    }\n",
       "\n",
       "    .dataframe thead th {\n",
       "        text-align: right;\n",
       "    }\n",
       "</style>\n",
       "<table border=\"1\" class=\"dataframe\">\n",
       "  <thead>\n",
       "    <tr style=\"text-align: right;\">\n",
       "      <th></th>\n",
       "      <th>Price</th>\n",
       "      <th>Rank</th>\n",
       "      <th>Combination</th>\n",
       "      <th>Dry</th>\n",
       "      <th>Normal</th>\n",
       "      <th>Oily</th>\n",
       "      <th>Sensitive</th>\n",
       "      <th>rank_top</th>\n",
       "    </tr>\n",
       "  </thead>\n",
       "  <tbody>\n",
       "    <tr>\n",
       "      <th>Price</th>\n",
       "      <td>1.000000</td>\n",
       "      <td>-0.025215</td>\n",
       "      <td>0.012575</td>\n",
       "      <td>0.065525</td>\n",
       "      <td>0.049230</td>\n",
       "      <td>0.003978</td>\n",
       "      <td>0.007621</td>\n",
       "      <td>0.149374</td>\n",
       "    </tr>\n",
       "    <tr>\n",
       "      <th>Rank</th>\n",
       "      <td>-0.025215</td>\n",
       "      <td>1.000000</td>\n",
       "      <td>0.036904</td>\n",
       "      <td>0.026982</td>\n",
       "      <td>0.051926</td>\n",
       "      <td>0.021041</td>\n",
       "      <td>0.015946</td>\n",
       "      <td>0.242664</td>\n",
       "    </tr>\n",
       "    <tr>\n",
       "      <th>Combination</th>\n",
       "      <td>0.012575</td>\n",
       "      <td>0.036904</td>\n",
       "      <td>1.000000</td>\n",
       "      <td>0.830784</td>\n",
       "      <td>0.927966</td>\n",
       "      <td>0.882528</td>\n",
       "      <td>0.689316</td>\n",
       "      <td>0.041949</td>\n",
       "    </tr>\n",
       "    <tr>\n",
       "      <th>Dry</th>\n",
       "      <td>0.065525</td>\n",
       "      <td>0.026982</td>\n",
       "      <td>0.830784</td>\n",
       "      <td>1.000000</td>\n",
       "      <td>0.874436</td>\n",
       "      <td>0.745767</td>\n",
       "      <td>0.722367</td>\n",
       "      <td>0.056642</td>\n",
       "    </tr>\n",
       "    <tr>\n",
       "      <th>Normal</th>\n",
       "      <td>0.049230</td>\n",
       "      <td>0.051926</td>\n",
       "      <td>0.927966</td>\n",
       "      <td>0.874436</td>\n",
       "      <td>1.000000</td>\n",
       "      <td>0.835227</td>\n",
       "      <td>0.713320</td>\n",
       "      <td>0.043387</td>\n",
       "    </tr>\n",
       "    <tr>\n",
       "      <th>Oily</th>\n",
       "      <td>0.003978</td>\n",
       "      <td>0.021041</td>\n",
       "      <td>0.882528</td>\n",
       "      <td>0.745767</td>\n",
       "      <td>0.835227</td>\n",
       "      <td>1.000000</td>\n",
       "      <td>0.648097</td>\n",
       "      <td>0.035252</td>\n",
       "    </tr>\n",
       "    <tr>\n",
       "      <th>Sensitive</th>\n",
       "      <td>0.007621</td>\n",
       "      <td>0.015946</td>\n",
       "      <td>0.689316</td>\n",
       "      <td>0.722367</td>\n",
       "      <td>0.713320</td>\n",
       "      <td>0.648097</td>\n",
       "      <td>1.000000</td>\n",
       "      <td>-0.016533</td>\n",
       "    </tr>\n",
       "    <tr>\n",
       "      <th>rank_top</th>\n",
       "      <td>0.149374</td>\n",
       "      <td>0.242664</td>\n",
       "      <td>0.041949</td>\n",
       "      <td>0.056642</td>\n",
       "      <td>0.043387</td>\n",
       "      <td>0.035252</td>\n",
       "      <td>-0.016533</td>\n",
       "      <td>1.000000</td>\n",
       "    </tr>\n",
       "  </tbody>\n",
       "</table>\n",
       "</div>"
      ],
      "text/plain": [
       "                Price      Rank  Combination       Dry    Normal      Oily  \\\n",
       "Price        1.000000 -0.025215     0.012575  0.065525  0.049230  0.003978   \n",
       "Rank        -0.025215  1.000000     0.036904  0.026982  0.051926  0.021041   \n",
       "Combination  0.012575  0.036904     1.000000  0.830784  0.927966  0.882528   \n",
       "Dry          0.065525  0.026982     0.830784  1.000000  0.874436  0.745767   \n",
       "Normal       0.049230  0.051926     0.927966  0.874436  1.000000  0.835227   \n",
       "Oily         0.003978  0.021041     0.882528  0.745767  0.835227  1.000000   \n",
       "Sensitive    0.007621  0.015946     0.689316  0.722367  0.713320  0.648097   \n",
       "rank_top     0.149374  0.242664     0.041949  0.056642  0.043387  0.035252   \n",
       "\n",
       "             Sensitive  rank_top  \n",
       "Price         0.007621  0.149374  \n",
       "Rank          0.015946  0.242664  \n",
       "Combination   0.689316  0.041949  \n",
       "Dry           0.722367  0.056642  \n",
       "Normal        0.713320  0.043387  \n",
       "Oily          0.648097  0.035252  \n",
       "Sensitive     1.000000 -0.016533  \n",
       "rank_top     -0.016533  1.000000  "
      ]
     },
     "execution_count": 127,
     "metadata": {},
     "output_type": "execute_result"
    }
   ],
   "source": [
    "# Correlation between all features\n",
    "cosmetics.corr()"
   ]
  },
  {
   "cell_type": "code",
   "execution_count": 128,
   "id": "c94fd37f-e3e7-4518-b03c-29bfb79d9ad2",
   "metadata": {},
   "outputs": [
    {
     "data": {
      "text/plain": [
       "Dry            1.000000\n",
       "Normal         0.874436\n",
       "Combination    0.830784\n",
       "Oily           0.745767\n",
       "Sensitive      0.722367\n",
       "Price          0.065525\n",
       "rank_top       0.056642\n",
       "Rank           0.026982\n",
       "Name: Dry, dtype: float64"
      ]
     },
     "execution_count": 128,
     "metadata": {},
     "output_type": "execute_result"
    }
   ],
   "source": [
    "# Correlation between each feature and dry skin type\n",
    "cosmetics.corr()['Dry'].sort_values(ascending=False)"
   ]
  },
  {
   "cell_type": "code",
   "execution_count": 129,
   "id": "19bee09f-deec-4e12-992f-60d47d497768",
   "metadata": {
    "scrolled": false
   },
   "outputs": [
    {
     "data": {
      "image/png": "[encoded data removed]",
      "text/plain": [
       "<Figure size 720x720 with 2 Axes>"
      ]
     },
     "metadata": {
      "needs_background": "light"
     },
     "output_type": "display_data"
    }
   ],
   "source": [
    "import seaborn as sns\n",
    "\n",
    "fig = plt.figure()\n",
    "fig.set_size_inches(10,10)\n",
    "fig = sns.heatmap(cosmetics.corr(),annot=True, vmax=1, square=True, cmap=\"Blues\", fmt='.2g')  "
   ]
  },
  {
   "cell_type": "markdown",
   "id": "bef40ecd",
   "metadata": {},
   "source": [
    "__6.1 Мы должны увидеть корреляцию между переменными.__"
   ]
  },
  {
   "cell_type": "markdown",
   "id": "feba1753",
   "metadata": {},
   "source": [
    "### <font color = f66060> 7. Гипотезы"
   ]
  },
  {
   "cell_type": "markdown",
   "id": "5b20860c",
   "metadata": {},
   "source": [
    "__H0 Предполагая отсутствие корреляции между ценами на косметику и рейтингами.__"
   ]
  },
  {
   "cell_type": "code",
   "execution_count": 130,
   "id": "5f43ec96-62fb-4aee-96d2-7543102f2a4b",
   "metadata": {},
   "outputs": [
    {
     "name": "stdout",
     "output_type": "stream",
     "text": [
      "stat=0.759, p=0.000\n",
      "Не соответствует нормальному распределению\n"
     ]
    }
   ],
   "source": [
    "# Используйте тест Шапиро-Уилка (W-тест).\n",
    "from scipy.stats import shapiro\n",
    "\n",
    "# Анализ цен\n",
    "features = ['Price']\n",
    "data = cosmetics[features]\n",
    "stat, p = shapiro(data)\n",
    "print('stat=%.3f, p=%.3f' % (stat, p))\n",
    "if p > 0.05:\n",
    "    print('H0 не может быть отвергнуто, и данные выборки соответствуют нормальному распределению')\n",
    "else:\n",
    "    print('Не соответствует нормальному распределению')"
   ]
  },
  {
   "cell_type": "code",
   "execution_count": 131,
   "id": "8f37ec1b",
   "metadata": {},
   "outputs": [
    {
     "name": "stdout",
     "output_type": "stream",
     "text": [
      "stat=0.672, p=0.000\n",
      "Не соответствует нормальному распределению\n"
     ]
    }
   ],
   "source": [
    "# Анализ оценки\n",
    "features = ['Rank']\n",
    "data = cosmetics[features]\n",
    "stat, p = shapiro(data)\n",
    "print('stat=%.3f, p=%.3f' % (stat, p))\n",
    "if p > 0.05:\n",
    "    print('H0 не может быть отвергнуто, и данные выборки соответствуют нормальному распределению')\n",
    "else:\n",
    "    print('Не соответствует нормальному распределению')"
   ]
  },
  {
   "cell_type": "code",
   "execution_count": 132,
   "id": "00dbd0ac",
   "metadata": {},
   "outputs": [],
   "source": [
    "# Тест на Chi-square\n",
    "from scipy.stats import chi2_contingency\n",
    "from scipy.stats import chi2"
   ]
  },
  {
   "cell_type": "code",
   "execution_count": 133,
   "id": "79460f28-a00c-4ed5-a1a6-184aaed30d4a",
   "metadata": {},
   "outputs": [
    {
     "name": "stdout",
     "output_type": "stream",
     "text": [
      "df_value dof=1471\n",
      "Распределение ожиданий\n",
      "[[166.64803897  12.45196103]\n",
      " [170.36993823  12.73006177]\n",
      " [ 67.36637645   5.03362355]\n",
      " ...\n",
      " [ 53.50230174   3.99769826]\n",
      " [ 19.53997107   1.46002893]\n",
      " [ 41.87136658   3.12863342]]\n",
      "probability=0.950, critical=1561.340, stat=3888.342\n",
      "Отвергаем H0, две переменные коррелированы\n"
     ]
    }
   ],
   "source": [
    "features = ['Price', 'Rank']\n",
    "table = cosmetics[features]\n",
    "\n",
    "stat, p, dof, expected = chi2_contingency(table)\n",
    "print('df_value dof=%d' % dof)\n",
    "print('Распределение ожиданий')\n",
    "print(expected)\n",
    "\n",
    "# Выберите значение chi-square для проверки\n",
    "prob = 0.95\n",
    "critical = chi2.ppf(prob, dof)\n",
    "print('probability=%.3f, critical=%.3f, stat=%.3f' % (prob, critical, stat))\n",
    "if abs(stat) >= critical:\n",
    "    print('Отвергаем H0, две переменные коррелированы')\n",
    "else:\n",
    "    print('H0 не может быть отвергнуто, и две переменные независимы друг от друга')"
   ]
  },
  {
   "cell_type": "code",
   "execution_count": 134,
   "id": "a45a92a5",
   "metadata": {},
   "outputs": [
    {
     "name": "stdout",
     "output_type": "stream",
     "text": [
      "significance=0.050, p=0.000\n",
      "Отвергаем H0, две переменные коррелированы\n"
     ]
    }
   ],
   "source": [
    "# Вывести взаимосвязь между ценой косметики и рейтингом с помощью p-значений\n",
    "alpha = 1.0 - prob\n",
    "print('significance=%.3f, p=%.3f' % (alpha, p))\n",
    "if p <= alpha:\n",
    "    print('Отвергаем H0, две переменные коррелированы')\n",
    "else:\n",
    "    print('H0 не может быть отвергнуто, и две переменные независимы друг от друга')"
   ]
  },
  {
   "cell_type": "markdown",
   "id": "ccd9bc60",
   "metadata": {},
   "source": [
    "__7.1 Итак: мы можем получить результат, протестировав эти два метода, существует корреляция между ценой косметики и рейтингом.__"
   ]
  },
  {
   "cell_type": "code",
   "execution_count": 135,
   "id": "165b08f5",
   "metadata": {},
   "outputs": [
    {
     "data": {
      "text/plain": [
       "<Figure size 432x288 with 0 Axes>"
      ]
     },
     "execution_count": 135,
     "metadata": {},
     "output_type": "execute_result"
    },
    {
     "data": {
      "image/png": "[encoded data removed]",
      "text/plain": [
       "<Figure size 432x288 with 1 Axes>"
      ]
     },
     "metadata": {
      "needs_background": "light"
     },
     "output_type": "display_data"
    },
    {
     "data": {
      "text/plain": [
       "<Figure size 432x288 with 0 Axes>"
      ]
     },
     "metadata": {},
     "output_type": "display_data"
    }
   ],
   "source": [
    "import numpy as np\n",
    "import matplotlib.pyplot as plt\n",
    "import scipy.stats as stats\n",
    "\n",
    "# 正态分布图\n",
    "data = cosmetics['Price'].tolist()\n",
    "stats.probplot(data, plot = plt)\n",
    "plt.figure()\n"
   ]
  },
  {
   "cell_type": "markdown",
   "id": "15ca1b12",
   "metadata": {},
   "source": [
    "Мы визуализируем нормальное распределение цен на косметику."
   ]
  },
  {
   "cell_type": "markdown",
   "id": "30254769",
   "metadata": {},
   "source": [
    "### <font color = f66060>  8. Логистическая регрессия"
   ]
  },
  {
   "cell_type": "code",
   "execution_count": 136,
   "id": "8e0814ad",
   "metadata": {},
   "outputs": [],
   "source": [
    "from sklearn.model_selection import GridSearchCV"
   ]
  },
  {
   "cell_type": "code",
   "execution_count": 137,
   "id": "a960de1f-d189-4883-9749-505499d7ae4c",
   "metadata": {},
   "outputs": [
    {
     "name": "stdout",
     "output_type": "stream",
     "text": [
      "Лучшие показатели：0.927\n",
      "Параметры оптимальности：\n",
      " {'C': 0.1, 'class_weight': None, 'dual': False, 'fit_intercept': True, 'intercept_scaling': 1, 'l1_ratio': None, 'max_iter': 100, 'multi_class': 'auto', 'n_jobs': None, 'penalty': 'l2', 'random_state': None, 'solver': 'lbfgs', 'tol': 0.0001, 'verbose': 0, 'warm_start': False}\n"
     ]
    },
    {
     "name": "stderr",
     "output_type": "stream",
     "text": [
      "/opt/anaconda3/lib/python3.9/site-packages/sklearn/model_selection/_validation.py:372: FitFailedWarning: \n",
      "30 fits failed out of a total of 60.\n",
      "The score on these train-test partitions for these parameters will be set to nan.\n",
      "If these failures are not expected, you can try to debug them by setting error_score='raise'.\n",
      "\n",
      "Below are more details about the failures:\n",
      "--------------------------------------------------------------------------------\n",
      "30 fits failed with the following error:\n",
      "Traceback (most recent call last):\n",
      "  File \"/opt/anaconda3/lib/python3.9/site-packages/sklearn/model_selection/_validation.py\", line 680, in _fit_and_score\n",
      "    estimator.fit(X_train, y_train, **fit_params)\n",
      "  File \"/opt/anaconda3/lib/python3.9/site-packages/sklearn/linear_model/_logistic.py\", line 1461, in fit\n",
      "    solver = _check_solver(self.solver, self.penalty, self.dual)\n",
      "  File \"/opt/anaconda3/lib/python3.9/site-packages/sklearn/linear_model/_logistic.py\", line 447, in _check_solver\n",
      "    raise ValueError(\n",
      "ValueError: Solver lbfgs supports only 'l2' or 'none' penalties, got l1 penalty.\n",
      "\n",
      "  warnings.warn(some_fits_failed_message, FitFailedWarning)\n",
      "/opt/anaconda3/lib/python3.9/site-packages/sklearn/model_selection/_search.py:969: UserWarning: One or more of the test scores are non-finite: [       nan 0.91844573        nan 0.92695276        nan 0.92610169\n",
      "        nan 0.92610169        nan 0.92610169        nan 0.92610169]\n",
      "  warnings.warn(\n"
     ]
    }
   ],
   "source": [
    "# Метод поиска по сетке для выбора наилучших параметров модели\n",
    "parameters = {'penalty': ('l1', 'l2'),'C': (0.01, 0.1, 1, 10, 100, 1000)}\n",
    "grid_search = GridSearchCV(linear_model.LogisticRegression(), parameters,  verbose=0, scoring='accuracy', cv=5)\n",
    "grid =grid_search.fit(X_train, y_train)\n",
    "print('Лучшие показатели：%0.3f' % grid_search.best_score_)\n",
    "best_parameters= grid_search.best_estimator_.get_params()\n",
    "print('Параметры оптимальности：\\n', best_parameters)"
   ]
  },
  {
   "cell_type": "markdown",
   "id": "dfcf3af9",
   "metadata": {},
   "source": [
    "__8.1__ Дополнение: Перед использованием алгоритма логистической регрессии мы должны определить параметры логистической регрессии, здесь мы используем метод поиска по сетке для проверки на нашем наборе данных и выводим наилучшие параметры модели логистической регрессии с наилучшими результатами"
   ]
  },
  {
   "cell_type": "code",
   "execution_count": 138,
   "id": "e8de1dbd",
   "metadata": {},
   "outputs": [],
   "source": [
    "from sklearn.linear_model import LogisticRegression\n",
    "from sklearn.model_selection import train_test_split"
   ]
  },
  {
   "cell_type": "code",
   "execution_count": 139,
   "id": "e4ffd3e5-4885-41b6-aed2-7cf339f7a7f5",
   "metadata": {
    "scrolled": true
   },
   "outputs": [
    {
     "data": {
      "image/png": "[encoded data removed]",
      "text/plain": [
       "<Figure size 1080x360 with 3 Axes>"
      ]
     },
     "metadata": {
      "needs_background": "light"
     },
     "output_type": "display_data"
    }
   ],
   "source": [
    "# Разделить наборы данных\n",
    "X_train, X_test, y_train, y_test = train_test_split(X_prep, y, test_size=0.2, random_state=42)\n",
    "\n",
    "# Классификация логистической регрессии\n",
    "logreg = LogisticRegression(C=0.1, class_weight=None, dual=False, fit_intercept=True, intercept_scaling=1, max_iter=100, multi_class='auto', n_jobs=None, penalty='l2', random_state=None, solver='lbfgs', tol=0.0001, verbose=0, warm_start=False)\n",
    "logreg.fit(X_train, y_train)\n",
    "\n",
    "y_train_pred = logreg.predict_proba(X_train)[:,1]\n",
    "y_test_pred = logreg.predict_proba(X_test)[:,1]\n",
    "\n",
    "threshold = 0.5\n",
    "\n",
    "fig,ax = plt.subplots(1,3)\n",
    "fig.set_size_inches(15,5)\n",
    "\n",
    "plot_cm(ax[0],  y_train, y_train_pred, [0,1], 'Confusion matrix (TRAIN)', threshold)\n",
    "plot_cm(ax[1],  y_test, y_test_pred,   [0,1], 'Confusion matrix (TEST)', threshold)\n",
    "plot_auc(ax[2], y_train, y_train_pred, y_test, y_test_pred, threshold)\n",
    "    \n",
    "plt.tight_layout()\n",
    "plt.show()"
   ]
  },
  {
   "cell_type": "markdown",
   "id": "33ba5e96",
   "metadata": {},
   "source": [
    "__8.2 Мы строим модель логистической регрессии и затем проверяем результаты на обучающем и тестовом наборах. Как вы можете видеть, третий график показывает, что показатель точности на обучающем наборе составляет 92,7%, что очень хорошо, и 89,2% на тестовом наборе. Основываясь на этой модели, мы можем ввести цену, рейтинг и ингредиенты определенной косметики, чтобы определить, подходит ли она для людей с жирной кожей.__"
   ]
  },
  {
   "cell_type": "markdown",
   "id": "c653da7b",
   "metadata": {},
   "source": [
    "### <font color = f66060>9. Факторный анализ"
   ]
  },
  {
   "cell_type": "code",
   "execution_count": 140,
   "id": "70e33eec-801b-438d-a9ba-5386869604c3",
   "metadata": {
    "scrolled": true
   },
   "outputs": [],
   "source": [
    "# Импорт необходимых наборов в python\n",
    "import seaborn as sns\n",
    "from factor_analyzer import FactorAnalyzer\n",
    "from factor_analyzer.factor_analyzer import calculate_bartlett_sphericity\n",
    "from factor_analyzer.factor_analyzer import calculate_kmo"
   ]
  },
  {
   "cell_type": "markdown",
   "id": "bcd3c99c",
   "metadata": {},
   "source": [
    "__Шаг 1: Проверка адекватности__"
   ]
  },
  {
   "cell_type": "code",
   "execution_count": 141,
   "id": "badb24c2",
   "metadata": {},
   "outputs": [],
   "source": [
    "features = ['Price', 'Rank', 'rank_top', 'Dry', 'Normal', 'Combination', 'Sensitive']\n",
    "df = cosmetics[features]"
   ]
  },
  {
   "cell_type": "code",
   "execution_count": 142,
   "id": "f2edfe97",
   "metadata": {},
   "outputs": [
    {
     "name": "stdout",
     "output_type": "stream",
     "text": [
      "6391.304117748566 0.0\n"
     ]
    }
   ],
   "source": [
    "# Использование метода Bartlett's Test\n",
    "chi_square_value, p_value = calculate_bartlett_sphericity(df)\n",
    "print(chi_square_value, p_value)"
   ]
  },
  {
   "cell_type": "markdown",
   "id": "fa33a41c",
   "metadata": {},
   "source": [
    "__9.1.1 Мы можем получить значение 0 для p-value, что указывает на то, что корреляционная матрица переменных не является единичной матрицей, т.е. между переменными существует определенная корреляция, и мы можем перейти к следующему факторному анализу.__"
   ]
  },
  {
   "cell_type": "code",
   "execution_count": 143,
   "id": "e96a260f",
   "metadata": {},
   "outputs": [
    {
     "name": "stdout",
     "output_type": "stream",
     "text": [
      "0.8027470927767363\n"
     ]
    }
   ],
   "source": [
    "# Использовать метода KMO Test\n",
    "kmo_all, kmo_model = calculate_kmo(df)\n",
    "print(kmo_model) "
   ]
  },
  {
   "cell_type": "markdown",
   "id": "31833b72",
   "metadata": {},
   "source": [
    "__9.1.2__ Выходное значение равно 0,8027470927767363, что __больше 0,6__, поэтому тест пройден и позволяет провести следующий факторный анализ."
   ]
  },
  {
   "cell_type": "markdown",
   "id": "ed0144b2",
   "metadata": {},
   "source": [
    "__Шаг 2: Выбор факторов__"
   ]
  },
  {
   "cell_type": "code",
   "execution_count": 144,
   "id": "66b56267-2b59-4ff8-a2bf-1088217e2f5e",
   "metadata": {},
   "outputs": [],
   "source": [
    "faa = FactorAnalyzer(25,rotation=None)\n",
    "faa.fit(df)\n",
    "\n",
    "# Этот шаг позволяет получить ev, v\n",
    "ev,v=faa.get_eigenvalues()"
   ]
  },
  {
   "cell_type": "code",
   "execution_count": 145,
   "id": "2f0ff4e5",
   "metadata": {
    "scrolled": true
   },
   "outputs": [
    {
     "data": {
      "image/png": "[encoded data removed]",
      "text/plain": [
       "<Figure size 432x288 with 1 Axes>"
      ]
     },
     "metadata": {
      "needs_background": "light"
     },
     "output_type": "display_data"
    }
   ],
   "source": [
    "# Построение линейного графика с разбросом из только что полученных данных EV и V\n",
    "plt.scatter(range(1, df.shape[1] + 1), ev)\n",
    "plt.plot(range(1, df.shape[1] + 1), ev)\n",
    "\n",
    "plt.title(\"Scree Plot\")  \n",
    "plt.xlabel(\"Factors\")\n",
    "plt.ylabel(\"Eigenvalue\")\n",
    "\n",
    "plt.grid()  # Показать сетку\n",
    "plt.show()   # Показать графику"
   ]
  },
  {
   "cell_type": "markdown",
   "id": "0fbf0524",
   "metadata": {},
   "source": [
    "__9.2.1 С помощью этого шага мы получили пять факторов для следующего этапа анализа.__"
   ]
  },
  {
   "cell_type": "markdown",
   "id": "d64c9fda",
   "metadata": {},
   "source": [
    "__Шаг 3: Проведение факторного анализа__"
   ]
  },
  {
   "cell_type": "code",
   "execution_count": 146,
   "id": "d9ca7fe1-92a8-4d92-bf62-d1b3eb09c10a",
   "metadata": {},
   "outputs": [],
   "source": [
    "import seaborn as sns\n",
    "\n",
    "fa = FactorAnalyzer(5, rotation=\"varimax\")\n",
    "fa.fit(df)\n",
    "\n",
    "df_cm = pd.DataFrame(np.abs(fa.loadings_),index=df.columns)"
   ]
  },
  {
   "cell_type": "code",
   "execution_count": 147,
   "id": "c74b7dc0-06e0-4cb8-987b-cb7ede7b804c",
   "metadata": {
    "scrolled": true
   },
   "outputs": [
    {
     "data": {
      "text/plain": [
       "Text(86.09375, 0.5, 'Sepal Width')"
      ]
     },
     "execution_count": 147,
     "metadata": {},
     "output_type": "execute_result"
    },
    {
     "data": {
      "image/png": "[encoded data removed]",
      "text/plain": [
       "<Figure size 864x720 with 2 Axes>"
      ]
     },
     "metadata": {
      "needs_background": "light"
     },
     "output_type": "display_data"
    }
   ],
   "source": [
    "# Составление тепловых карт для лучшего представления актуальности\n",
    "fig,ax = plt.subplots(figsize=(12,10))\n",
    "sns.heatmap(df_cm,annot=True,cmap='BuPu',ax=ax,color='red')\n",
    "ax.tick_params(axis='x',labelsize=15)\n",
    "ax.set_title(\"Factor Analysis\",fontsize=12)\n",
    "ax.set_ylabel(\"Sepal Width\")"
   ]
  },
  {
   "cell_type": "markdown",
   "id": "b71a225c",
   "metadata": {},
   "source": [
    "__9.3.1 На основе визуального отображения, чтобы более наглядно увидеть, какие признаки более связаны с каждой скрытой переменной, матрица коэффициентов выводится на тепловую карту.__"
   ]
  },
  {
   "cell_type": "markdown",
   "id": "f659beac",
   "metadata": {},
   "source": [
    "__9.3.2 Как видно из карты, две переменные - рейтинг и цена - имеют более темный цвет, причем корреляция между жирным типом кожи, нормальным типом кожи и комбинированным типом кожи выше.__"
   ]
  },
  {
   "cell_type": "markdown",
   "id": "32461982",
   "metadata": {},
   "source": [
    "__Все исследование увенчалось результатом, который знают все: чтобы купить подходящую вам косметику, нужно обратиться к цене и рейтингу косметики.__"
   ]
  },
  {
   "cell_type": "code",
   "execution_count": null,
   "id": "6740014d",
   "metadata": {},
   "outputs": [],
   "source": []
  }
 ],
 "metadata": {
  "kernelspec": {
   "display_name": "Python 3 (ipykernel)",
   "language": "python",
   "name": "python3"
  },
  "language_info": {
   "codemirror_mode": {
    "name": "ipython",
    "version": 3
   },
   "file_extension": ".py",
   "mimetype": "text/x-python",
   "name": "python",
   "nbconvert_exporter": "python",
   "pygments_lexer": "ipython3",
   "version": "3.9.12"
  }
 },
 "nbformat": 4,
 "nbformat_minor": 5
}
